{
 "cells": [
  {
   "cell_type": "markdown",
   "id": "c59d7138",
   "metadata": {},
   "source": [
    "title: \"CIND820_Capstone_EDA_Data_Cleaning\"\n",
    "\n",
    "output: html_document\n",
    "\n",
    "original date: \"2025-06-21\"\n",
    "\n",
    "update date: \"2025-07-27\"\n",
    "\n",
    "---\n",
    "Name: Elizabeth Esnard \n",
    "\n",
    "Course Section: CIND 820 \n",
    "\n",
    "TMU Student Number: 501342464 "
   ]
  },
  {
   "cell_type": "code",
   "execution_count": 1,
   "id": "e6bd7699",
   "metadata": {},
   "outputs": [],
   "source": [
    "#import relevant libraries\n",
    "\n",
    "import pandas as pd\n",
    "import seaborn as sns\n",
    "import matplotlib.pyplot as plt\n",
    "import os"
   ]
  },
  {
   "cell_type": "markdown",
   "id": "709f31a3",
   "metadata": {},
   "source": [
    "Importing the dataset"
   ]
  },
  {
   "cell_type": "code",
   "execution_count": 2,
   "id": "e2c3654b",
   "metadata": {},
   "outputs": [],
   "source": [
    "#set working directory to the relevant folder holding the dataset\n",
    "os.chdir(r\"C:\\Users\\lizes\\Documents\\TMU - Chang School\\CIND820\\dataset bnpl\")"
   ]
  },
  {
   "cell_type": "code",
   "execution_count": 3,
   "id": "1a6bf45d",
   "metadata": {},
   "outputs": [
    {
     "data": {
      "text/plain": [
       "(1048575, 29)"
      ]
     },
     "execution_count": 3,
     "metadata": {},
     "output_type": "execute_result"
    }
   ],
   "source": [
    "#create a variable to hold the raw dataset\n",
    "loan_working_copy = pd.read_csv(\"loan_working_copy.csv\")\n",
    "\n",
    "#check the shape of the dataset\n",
    "loan_working_copy.shape"
   ]
  },
  {
   "cell_type": "code",
   "execution_count": 4,
   "id": "0736e4e0",
   "metadata": {},
   "outputs": [
    {
     "data": {
      "text/html": [
       "<div>\n",
       "<style scoped>\n",
       "    .dataframe tbody tr th:only-of-type {\n",
       "        vertical-align: middle;\n",
       "    }\n",
       "\n",
       "    .dataframe tbody tr th {\n",
       "        vertical-align: top;\n",
       "    }\n",
       "\n",
       "    .dataframe thead th {\n",
       "        text-align: right;\n",
       "    }\n",
       "</style>\n",
       "<table border=\"1\" class=\"dataframe\">\n",
       "  <thead>\n",
       "    <tr style=\"text-align: right;\">\n",
       "      <th></th>\n",
       "      <th>loan_amnt</th>\n",
       "      <th>int_rate</th>\n",
       "      <th>monthly_payment</th>\n",
       "      <th>annual_inc</th>\n",
       "      <th>total_dti</th>\n",
       "      <th>delinq_2yrs</th>\n",
       "      <th>open_acc</th>\n",
       "      <th>cur_acct_delinq</th>\n",
       "      <th>tot_coll_amt</th>\n",
       "      <th>tot_cur_bal</th>\n",
       "      <th>mort_acc</th>\n",
       "      <th>num_accts_120_pd</th>\n",
       "      <th>pub_rec_bankruptcies</th>\n",
       "      <th>tax_liens</th>\n",
       "      <th>credit_limit</th>\n",
       "      <th>total_bal_ex_mort</th>\n",
       "    </tr>\n",
       "  </thead>\n",
       "  <tbody>\n",
       "    <tr>\n",
       "      <th>count</th>\n",
       "      <td>1048575.00</td>\n",
       "      <td>1048575.00</td>\n",
       "      <td>1048575.00</td>\n",
       "      <td>1048575.00</td>\n",
       "      <td>1047378.00</td>\n",
       "      <td>1048575.00</td>\n",
       "      <td>1048575.00</td>\n",
       "      <td>1048575.00</td>\n",
       "      <td>1048575.00</td>\n",
       "      <td>1048575.00</td>\n",
       "      <td>1048575.00</td>\n",
       "      <td>1048575.00</td>\n",
       "      <td>1048575.00</td>\n",
       "      <td>1048575.00</td>\n",
       "      <td>1048575.00</td>\n",
       "      <td>1048575.00</td>\n",
       "    </tr>\n",
       "    <tr>\n",
       "      <th>mean</th>\n",
       "      <td>15384.87</td>\n",
       "      <td>12.80</td>\n",
       "      <td>453.82</td>\n",
       "      <td>79674.61</td>\n",
       "      <td>19.29</td>\n",
       "      <td>0.30</td>\n",
       "      <td>11.71</td>\n",
       "      <td>0.00</td>\n",
       "      <td>242.99</td>\n",
       "      <td>143579.40</td>\n",
       "      <td>1.46</td>\n",
       "      <td>0.51</td>\n",
       "      <td>0.13</td>\n",
       "      <td>0.04</td>\n",
       "      <td>181512.39</td>\n",
       "      <td>52306.63</td>\n",
       "    </tr>\n",
       "    <tr>\n",
       "      <th>std</th>\n",
       "      <td>9533.84</td>\n",
       "      <td>4.96</td>\n",
       "      <td>276.21</td>\n",
       "      <td>84101.83</td>\n",
       "      <td>15.90</td>\n",
       "      <td>0.86</td>\n",
       "      <td>5.85</td>\n",
       "      <td>0.06</td>\n",
       "      <td>8183.68</td>\n",
       "      <td>163871.02</td>\n",
       "      <td>1.80</td>\n",
       "      <td>1.38</td>\n",
       "      <td>0.37</td>\n",
       "      <td>0.37</td>\n",
       "      <td>185585.00</td>\n",
       "      <td>51568.33</td>\n",
       "    </tr>\n",
       "    <tr>\n",
       "      <th>min</th>\n",
       "      <td>1000.00</td>\n",
       "      <td>5.31</td>\n",
       "      <td>14.77</td>\n",
       "      <td>0.00</td>\n",
       "      <td>-1.00</td>\n",
       "      <td>0.00</td>\n",
       "      <td>0.00</td>\n",
       "      <td>0.00</td>\n",
       "      <td>0.00</td>\n",
       "      <td>0.00</td>\n",
       "      <td>0.00</td>\n",
       "      <td>0.00</td>\n",
       "      <td>0.00</td>\n",
       "      <td>0.00</td>\n",
       "      <td>0.00</td>\n",
       "      <td>0.00</td>\n",
       "    </tr>\n",
       "    <tr>\n",
       "      <th>25%</th>\n",
       "      <td>8000.00</td>\n",
       "      <td>9.16</td>\n",
       "      <td>251.65</td>\n",
       "      <td>47000.00</td>\n",
       "      <td>11.93</td>\n",
       "      <td>0.00</td>\n",
       "      <td>8.00</td>\n",
       "      <td>0.00</td>\n",
       "      <td>0.00</td>\n",
       "      <td>28834.00</td>\n",
       "      <td>0.00</td>\n",
       "      <td>0.00</td>\n",
       "      <td>0.00</td>\n",
       "      <td>0.00</td>\n",
       "      <td>51895.00</td>\n",
       "      <td>20912.00</td>\n",
       "    </tr>\n",
       "    <tr>\n",
       "      <th>50%</th>\n",
       "      <td>13000.00</td>\n",
       "      <td>11.99</td>\n",
       "      <td>380.66</td>\n",
       "      <td>66000.00</td>\n",
       "      <td>18.05</td>\n",
       "      <td>0.00</td>\n",
       "      <td>11.00</td>\n",
       "      <td>0.00</td>\n",
       "      <td>0.00</td>\n",
       "      <td>78318.00</td>\n",
       "      <td>1.00</td>\n",
       "      <td>0.00</td>\n",
       "      <td>0.00</td>\n",
       "      <td>0.00</td>\n",
       "      <td>115606.00</td>\n",
       "      <td>38594.00</td>\n",
       "    </tr>\n",
       "    <tr>\n",
       "      <th>75%</th>\n",
       "      <td>20000.00</td>\n",
       "      <td>15.49</td>\n",
       "      <td>609.44</td>\n",
       "      <td>95000.00</td>\n",
       "      <td>25.02</td>\n",
       "      <td>0.00</td>\n",
       "      <td>15.00</td>\n",
       "      <td>0.00</td>\n",
       "      <td>0.00</td>\n",
       "      <td>214929.50</td>\n",
       "      <td>2.00</td>\n",
       "      <td>0.00</td>\n",
       "      <td>0.00</td>\n",
       "      <td>0.00</td>\n",
       "      <td>262282.50</td>\n",
       "      <td>66337.00</td>\n",
       "    </tr>\n",
       "    <tr>\n",
       "      <th>max</th>\n",
       "      <td>40000.00</td>\n",
       "      <td>30.99</td>\n",
       "      <td>1670.15</td>\n",
       "      <td>9930475.00</td>\n",
       "      <td>999.00</td>\n",
       "      <td>58.00</td>\n",
       "      <td>101.00</td>\n",
       "      <td>6.00</td>\n",
       "      <td>6214661.00</td>\n",
       "      <td>9971659.00</td>\n",
       "      <td>87.00</td>\n",
       "      <td>58.00</td>\n",
       "      <td>9.00</td>\n",
       "      <td>85.00</td>\n",
       "      <td>9999999.00</td>\n",
       "      <td>2622906.00</td>\n",
       "    </tr>\n",
       "  </tbody>\n",
       "</table>\n",
       "</div>"
      ],
      "text/plain": [
       "        loan_amnt    int_rate  monthly_payment  annual_inc   total_dti  \\\n",
       "count  1048575.00  1048575.00       1048575.00  1048575.00  1047378.00   \n",
       "mean     15384.87       12.80           453.82    79674.61       19.29   \n",
       "std       9533.84        4.96           276.21    84101.83       15.90   \n",
       "min       1000.00        5.31            14.77        0.00       -1.00   \n",
       "25%       8000.00        9.16           251.65    47000.00       11.93   \n",
       "50%      13000.00       11.99           380.66    66000.00       18.05   \n",
       "75%      20000.00       15.49           609.44    95000.00       25.02   \n",
       "max      40000.00       30.99          1670.15  9930475.00      999.00   \n",
       "\n",
       "       delinq_2yrs    open_acc  cur_acct_delinq  tot_coll_amt  tot_cur_bal  \\\n",
       "count   1048575.00  1048575.00       1048575.00    1048575.00   1048575.00   \n",
       "mean          0.30       11.71             0.00        242.99    143579.40   \n",
       "std           0.86        5.85             0.06       8183.68    163871.02   \n",
       "min           0.00        0.00             0.00          0.00         0.00   \n",
       "25%           0.00        8.00             0.00          0.00     28834.00   \n",
       "50%           0.00       11.00             0.00          0.00     78318.00   \n",
       "75%           0.00       15.00             0.00          0.00    214929.50   \n",
       "max          58.00      101.00             6.00    6214661.00   9971659.00   \n",
       "\n",
       "         mort_acc  num_accts_120_pd  pub_rec_bankruptcies   tax_liens  \\\n",
       "count  1048575.00        1048575.00            1048575.00  1048575.00   \n",
       "mean         1.46              0.51                  0.13        0.04   \n",
       "std          1.80              1.38                  0.37        0.37   \n",
       "min          0.00              0.00                  0.00        0.00   \n",
       "25%          0.00              0.00                  0.00        0.00   \n",
       "50%          1.00              0.00                  0.00        0.00   \n",
       "75%          2.00              0.00                  0.00        0.00   \n",
       "max         87.00             58.00                  9.00       85.00   \n",
       "\n",
       "       credit_limit  total_bal_ex_mort  \n",
       "count    1048575.00         1048575.00  \n",
       "mean      181512.39           52306.63  \n",
       "std       185585.00           51568.33  \n",
       "min            0.00               0.00  \n",
       "25%        51895.00           20912.00  \n",
       "50%       115606.00           38594.00  \n",
       "75%       262282.50           66337.00  \n",
       "max      9999999.00         2622906.00  "
      ]
     },
     "execution_count": 4,
     "metadata": {},
     "output_type": "execute_result"
    }
   ],
   "source": [
    "#prior to filtering, let's observice the summary statistics of the raw dataset\n",
    "loan_working_copy.describe().round(2)"
   ]
  },
  {
   "cell_type": "markdown",
   "id": "d93d0851",
   "metadata": {},
   "source": [
    "Buy Now, Pay Later purchases are being used for smaller purchases, so this paper will go on to \n",
    "filter the observations based on certain attributes into a working dataset which will be exported at the end of this notebook. "
   ]
  },
  {
   "cell_type": "code",
   "execution_count": 5,
   "id": "85b8d8d5",
   "metadata": {},
   "outputs": [
    {
     "name": "stdout",
     "output_type": "stream",
     "text": [
      "Number of observations post loan_amount filtering: 59092\n"
     ]
    }
   ],
   "source": [
    "#create variable to hold EDA dataset\n",
    "BNPL_clients = pd.read_csv(\"loan_working_copy.csv\")\n",
    "\n",
    "#filter dataset to simulate BNPL purchase amounts\n",
    "BNPL_clients = BNPL_clients[BNPL_clients['loan_amnt'] <= 3500]\n",
    "\n",
    "#check number of rows after filter\n",
    "print('Number of observations post loan_amount filtering:', len(BNPL_clients))"
   ]
  },
  {
   "cell_type": "code",
   "execution_count": 6,
   "id": "639ba22e",
   "metadata": {},
   "outputs": [
    {
     "data": {
      "text/plain": [
       "Index(['loan_amnt', 'loan_term', 'int_rate', 'monthly_payment', 'sub_grade',\n",
       "       'emp_title', 'emp_length', 'home_ownership', 'annual_inc',\n",
       "       'verification_status', 'loan_purpose', 'addr_state', 'total_dti',\n",
       "       'delinq_2yrs', 'open_acc', 'application_type', 'cur_acct_delinq',\n",
       "       'tot_coll_amt', 'tot_cur_bal', 'mort_acc', 'num_accts_120_pd',\n",
       "       'pub_rec_bankruptcies', 'tax_liens', 'credit_limit',\n",
       "       'total_bal_ex_mort', 'hardship_flag', 'disbursement_method',\n",
       "       'debt_settlement_flag', 'loan_status'],\n",
       "      dtype='object')"
      ]
     },
     "execution_count": 6,
     "metadata": {},
     "output_type": "execute_result"
    }
   ],
   "source": [
    "#check variable names\n",
    "BNPL_clients.columns"
   ]
  },
  {
   "cell_type": "code",
   "execution_count": 7,
   "id": "962fa0f5",
   "metadata": {},
   "outputs": [
    {
     "data": {
      "text/html": [
       "<div>\n",
       "<style scoped>\n",
       "    .dataframe tbody tr th:only-of-type {\n",
       "        vertical-align: middle;\n",
       "    }\n",
       "\n",
       "    .dataframe tbody tr th {\n",
       "        vertical-align: top;\n",
       "    }\n",
       "\n",
       "    .dataframe thead th {\n",
       "        text-align: right;\n",
       "    }\n",
       "</style>\n",
       "<table border=\"1\" class=\"dataframe\">\n",
       "  <thead>\n",
       "    <tr style=\"text-align: right;\">\n",
       "      <th></th>\n",
       "      <th>loan_amnt</th>\n",
       "      <th>int_rate</th>\n",
       "      <th>monthly_payment</th>\n",
       "      <th>annual_inc</th>\n",
       "      <th>total_dti</th>\n",
       "      <th>delinq_2yrs</th>\n",
       "      <th>open_acc</th>\n",
       "      <th>cur_acct_delinq</th>\n",
       "      <th>tot_coll_amt</th>\n",
       "      <th>tot_cur_bal</th>\n",
       "      <th>mort_acc</th>\n",
       "      <th>num_accts_120_pd</th>\n",
       "      <th>pub_rec_bankruptcies</th>\n",
       "      <th>tax_liens</th>\n",
       "      <th>credit_limit</th>\n",
       "      <th>total_bal_ex_mort</th>\n",
       "    </tr>\n",
       "  </thead>\n",
       "  <tbody>\n",
       "    <tr>\n",
       "      <th>count</th>\n",
       "      <td>59092.00</td>\n",
       "      <td>59092.00</td>\n",
       "      <td>59092.00</td>\n",
       "      <td>59092.00</td>\n",
       "      <td>59053.00</td>\n",
       "      <td>59092.00</td>\n",
       "      <td>59092.00</td>\n",
       "      <td>59092.00</td>\n",
       "      <td>59092.00</td>\n",
       "      <td>59092.00</td>\n",
       "      <td>59092.00</td>\n",
       "      <td>59092.00</td>\n",
       "      <td>59092.00</td>\n",
       "      <td>59092.00</td>\n",
       "      <td>59092.00</td>\n",
       "      <td>59092.00</td>\n",
       "    </tr>\n",
       "    <tr>\n",
       "      <th>mean</th>\n",
       "      <td>2416.88</td>\n",
       "      <td>13.20</td>\n",
       "      <td>81.55</td>\n",
       "      <td>54438.96</td>\n",
       "      <td>18.15</td>\n",
       "      <td>0.31</td>\n",
       "      <td>9.90</td>\n",
       "      <td>0.00</td>\n",
       "      <td>257.19</td>\n",
       "      <td>90534.45</td>\n",
       "      <td>1.01</td>\n",
       "      <td>0.57</td>\n",
       "      <td>0.14</td>\n",
       "      <td>0.03</td>\n",
       "      <td>115381.94</td>\n",
       "      <td>36225.32</td>\n",
       "    </tr>\n",
       "    <tr>\n",
       "      <th>std</th>\n",
       "      <td>759.87</td>\n",
       "      <td>4.79</td>\n",
       "      <td>25.78</td>\n",
       "      <td>67295.12</td>\n",
       "      <td>13.91</td>\n",
       "      <td>0.90</td>\n",
       "      <td>5.35</td>\n",
       "      <td>0.06</td>\n",
       "      <td>1880.44</td>\n",
       "      <td>111906.41</td>\n",
       "      <td>1.49</td>\n",
       "      <td>1.52</td>\n",
       "      <td>0.37</td>\n",
       "      <td>0.27</td>\n",
       "      <td>130769.65</td>\n",
       "      <td>39430.77</td>\n",
       "    </tr>\n",
       "    <tr>\n",
       "      <th>min</th>\n",
       "      <td>1000.00</td>\n",
       "      <td>5.31</td>\n",
       "      <td>29.76</td>\n",
       "      <td>0.00</td>\n",
       "      <td>0.00</td>\n",
       "      <td>0.00</td>\n",
       "      <td>0.00</td>\n",
       "      <td>0.00</td>\n",
       "      <td>0.00</td>\n",
       "      <td>0.00</td>\n",
       "      <td>0.00</td>\n",
       "      <td>0.00</td>\n",
       "      <td>0.00</td>\n",
       "      <td>0.00</td>\n",
       "      <td>0.00</td>\n",
       "      <td>0.00</td>\n",
       "    </tr>\n",
       "    <tr>\n",
       "      <th>25%</th>\n",
       "      <td>2000.00</td>\n",
       "      <td>9.76</td>\n",
       "      <td>63.18</td>\n",
       "      <td>32756.00</td>\n",
       "      <td>10.69</td>\n",
       "      <td>0.00</td>\n",
       "      <td>6.00</td>\n",
       "      <td>0.00</td>\n",
       "      <td>0.00</td>\n",
       "      <td>15496.75</td>\n",
       "      <td>0.00</td>\n",
       "      <td>0.00</td>\n",
       "      <td>0.00</td>\n",
       "      <td>0.00</td>\n",
       "      <td>30450.00</td>\n",
       "      <td>11827.75</td>\n",
       "    </tr>\n",
       "    <tr>\n",
       "      <th>50%</th>\n",
       "      <td>2500.00</td>\n",
       "      <td>12.69</td>\n",
       "      <td>85.44</td>\n",
       "      <td>48000.00</td>\n",
       "      <td>17.17</td>\n",
       "      <td>0.00</td>\n",
       "      <td>9.00</td>\n",
       "      <td>0.00</td>\n",
       "      <td>0.00</td>\n",
       "      <td>40149.50</td>\n",
       "      <td>0.00</td>\n",
       "      <td>0.00</td>\n",
       "      <td>0.00</td>\n",
       "      <td>0.00</td>\n",
       "      <td>62967.00</td>\n",
       "      <td>25585.50</td>\n",
       "    </tr>\n",
       "    <tr>\n",
       "      <th>75%</th>\n",
       "      <td>3000.00</td>\n",
       "      <td>15.99</td>\n",
       "      <td>101.80</td>\n",
       "      <td>67000.00</td>\n",
       "      <td>24.40</td>\n",
       "      <td>0.00</td>\n",
       "      <td>13.00</td>\n",
       "      <td>0.00</td>\n",
       "      <td>0.00</td>\n",
       "      <td>135296.00</td>\n",
       "      <td>2.00</td>\n",
       "      <td>0.00</td>\n",
       "      <td>0.00</td>\n",
       "      <td>0.00</td>\n",
       "      <td>167608.25</td>\n",
       "      <td>46800.75</td>\n",
       "    </tr>\n",
       "    <tr>\n",
       "      <th>max</th>\n",
       "      <td>3500.00</td>\n",
       "      <td>30.99</td>\n",
       "      <td>149.53</td>\n",
       "      <td>7000000.00</td>\n",
       "      <td>999.00</td>\n",
       "      <td>20.00</td>\n",
       "      <td>57.00</td>\n",
       "      <td>4.00</td>\n",
       "      <td>208593.00</td>\n",
       "      <td>1389307.00</td>\n",
       "      <td>17.00</td>\n",
       "      <td>36.00</td>\n",
       "      <td>6.00</td>\n",
       "      <td>9.00</td>\n",
       "      <td>9999999.00</td>\n",
       "      <td>878659.00</td>\n",
       "    </tr>\n",
       "  </tbody>\n",
       "</table>\n",
       "</div>"
      ],
      "text/plain": [
       "       loan_amnt  int_rate  monthly_payment  annual_inc  total_dti  \\\n",
       "count   59092.00  59092.00         59092.00    59092.00   59053.00   \n",
       "mean     2416.88     13.20            81.55    54438.96      18.15   \n",
       "std       759.87      4.79            25.78    67295.12      13.91   \n",
       "min      1000.00      5.31            29.76        0.00       0.00   \n",
       "25%      2000.00      9.76            63.18    32756.00      10.69   \n",
       "50%      2500.00     12.69            85.44    48000.00      17.17   \n",
       "75%      3000.00     15.99           101.80    67000.00      24.40   \n",
       "max      3500.00     30.99           149.53  7000000.00     999.00   \n",
       "\n",
       "       delinq_2yrs  open_acc  cur_acct_delinq  tot_coll_amt  tot_cur_bal  \\\n",
       "count     59092.00  59092.00         59092.00      59092.00     59092.00   \n",
       "mean          0.31      9.90             0.00        257.19     90534.45   \n",
       "std           0.90      5.35             0.06       1880.44    111906.41   \n",
       "min           0.00      0.00             0.00          0.00         0.00   \n",
       "25%           0.00      6.00             0.00          0.00     15496.75   \n",
       "50%           0.00      9.00             0.00          0.00     40149.50   \n",
       "75%           0.00     13.00             0.00          0.00    135296.00   \n",
       "max          20.00     57.00             4.00     208593.00   1389307.00   \n",
       "\n",
       "       mort_acc  num_accts_120_pd  pub_rec_bankruptcies  tax_liens  \\\n",
       "count  59092.00          59092.00              59092.00   59092.00   \n",
       "mean       1.01              0.57                  0.14       0.03   \n",
       "std        1.49              1.52                  0.37       0.27   \n",
       "min        0.00              0.00                  0.00       0.00   \n",
       "25%        0.00              0.00                  0.00       0.00   \n",
       "50%        0.00              0.00                  0.00       0.00   \n",
       "75%        2.00              0.00                  0.00       0.00   \n",
       "max       17.00             36.00                  6.00       9.00   \n",
       "\n",
       "       credit_limit  total_bal_ex_mort  \n",
       "count      59092.00           59092.00  \n",
       "mean      115381.94           36225.32  \n",
       "std       130769.65           39430.77  \n",
       "min            0.00               0.00  \n",
       "25%        30450.00           11827.75  \n",
       "50%        62967.00           25585.50  \n",
       "75%       167608.25           46800.75  \n",
       "max      9999999.00          878659.00  "
      ]
     },
     "execution_count": 7,
     "metadata": {},
     "output_type": "execute_result"
    }
   ],
   "source": [
    "#summary statistics of variables, post filtering\n",
    "BNPL_clients.describe().round(2)"
   ]
  },
  {
   "cell_type": "markdown",
   "id": "e053e2b9",
   "metadata": {},
   "source": [
    "We've filtered the dataset to be within a loan_amount range within BNPL purchases. \n",
    "Based off the summary statistics above, however, there are some noticable outliers like the max income of 7,000,000."
   ]
  },
  {
   "cell_type": "code",
   "execution_count": 8,
   "id": "7df8c7dc",
   "metadata": {},
   "outputs": [
    {
     "data": {
      "text/plain": [
       "<Axes: xlabel='annual_inc'>"
      ]
     },
     "execution_count": 8,
     "metadata": {},
     "output_type": "execute_result"
    },
    {
     "data": {
      "image/png": "[encoded data removed]",
      "text/plain": [
       "<Figure size 640x480 with 1 Axes>"
      ]
     },
     "metadata": {},
     "output_type": "display_data"
    }
   ],
   "source": [
    "#plot annual_inc in a boxplot to observe outliers\n",
    "sns.boxplot(x=BNPL_clients['annual_inc'])"
   ]
  },
  {
   "cell_type": "code",
   "execution_count": 9,
   "id": "b2872180",
   "metadata": {},
   "outputs": [
    {
     "name": "stdout",
     "output_type": "stream",
     "text": [
      "Q3: 67000.0\n"
     ]
    }
   ],
   "source": [
    "#calculate the quartiles for annual_inc to identify outliers over Q3\n",
    "\n",
    "Q3 = BNPL_clients['annual_inc'].quantile(0.75)\n",
    "print('Q3:', Q3)"
   ]
  },
  {
   "cell_type": "code",
   "execution_count": 10,
   "id": "75b00546",
   "metadata": {},
   "outputs": [
    {
     "data": {
      "text/plain": [
       "<Axes: xlabel='annual_inc'>"
      ]
     },
     "execution_count": 10,
     "metadata": {},
     "output_type": "execute_result"
    },
    {
     "data": {
      "image/png": "[encoded data removed]",
      "text/plain": [
       "<Figure size 640x480 with 1 Axes>"
      ]
     },
     "metadata": {},
     "output_type": "display_data"
    }
   ],
   "source": [
    "#filter dataset to remove outliers in annual_inc\n",
    "BNPL_clients = BNPL_clients[BNPL_clients['annual_inc'] <= 100000]\n",
    "\n",
    "#confirm with another boxplot\n",
    "sns.boxplot(x=BNPL_clients['annual_inc'])"
   ]
  },
  {
   "cell_type": "code",
   "execution_count": 11,
   "id": "379ef165",
   "metadata": {},
   "outputs": [
    {
     "data": {
      "text/plain": [
       "(55168, 29)"
      ]
     },
     "execution_count": 11,
     "metadata": {},
     "output_type": "execute_result"
    }
   ],
   "source": [
    "BNPL_clients.shape"
   ]
  },
  {
   "cell_type": "code",
   "execution_count": 12,
   "id": "21df97d0",
   "metadata": {},
   "outputs": [
    {
     "data": {
      "text/html": [
       "<div>\n",
       "<style scoped>\n",
       "    .dataframe tbody tr th:only-of-type {\n",
       "        vertical-align: middle;\n",
       "    }\n",
       "\n",
       "    .dataframe tbody tr th {\n",
       "        vertical-align: top;\n",
       "    }\n",
       "\n",
       "    .dataframe thead th {\n",
       "        text-align: right;\n",
       "    }\n",
       "</style>\n",
       "<table border=\"1\" class=\"dataframe\">\n",
       "  <thead>\n",
       "    <tr style=\"text-align: right;\">\n",
       "      <th></th>\n",
       "      <th>loan_amnt</th>\n",
       "      <th>int_rate</th>\n",
       "      <th>monthly_payment</th>\n",
       "      <th>annual_inc</th>\n",
       "      <th>total_dti</th>\n",
       "      <th>delinq_2yrs</th>\n",
       "      <th>open_acc</th>\n",
       "      <th>cur_acct_delinq</th>\n",
       "      <th>tot_coll_amt</th>\n",
       "      <th>tot_cur_bal</th>\n",
       "      <th>mort_acc</th>\n",
       "      <th>num_accts_120_pd</th>\n",
       "      <th>pub_rec_bankruptcies</th>\n",
       "      <th>tax_liens</th>\n",
       "      <th>credit_limit</th>\n",
       "      <th>total_bal_ex_mort</th>\n",
       "    </tr>\n",
       "  </thead>\n",
       "  <tbody>\n",
       "    <tr>\n",
       "      <th>count</th>\n",
       "      <td>55168.00</td>\n",
       "      <td>55168.00</td>\n",
       "      <td>55168.00</td>\n",
       "      <td>55168.00</td>\n",
       "      <td>55129.00</td>\n",
       "      <td>55168.00</td>\n",
       "      <td>55168.00</td>\n",
       "      <td>55168.00</td>\n",
       "      <td>55168.00</td>\n",
       "      <td>55168.00</td>\n",
       "      <td>55168.00</td>\n",
       "      <td>55168.00</td>\n",
       "      <td>55168.00</td>\n",
       "      <td>55168.00</td>\n",
       "      <td>55168.00</td>\n",
       "      <td>55168.00</td>\n",
       "    </tr>\n",
       "    <tr>\n",
       "      <th>mean</th>\n",
       "      <td>2409.73</td>\n",
       "      <td>13.24</td>\n",
       "      <td>81.34</td>\n",
       "      <td>47958.74</td>\n",
       "      <td>18.40</td>\n",
       "      <td>0.29</td>\n",
       "      <td>9.70</td>\n",
       "      <td>0.00</td>\n",
       "      <td>254.70</td>\n",
       "      <td>80361.21</td>\n",
       "      <td>0.93</td>\n",
       "      <td>0.56</td>\n",
       "      <td>0.14</td>\n",
       "      <td>0.03</td>\n",
       "      <td>103398.31</td>\n",
       "      <td>33670.97</td>\n",
       "    </tr>\n",
       "    <tr>\n",
       "      <th>std</th>\n",
       "      <td>762.19</td>\n",
       "      <td>4.80</td>\n",
       "      <td>25.87</td>\n",
       "      <td>21300.29</td>\n",
       "      <td>14.21</td>\n",
       "      <td>0.88</td>\n",
       "      <td>5.24</td>\n",
       "      <td>0.06</td>\n",
       "      <td>1798.34</td>\n",
       "      <td>96913.10</td>\n",
       "      <td>1.42</td>\n",
       "      <td>1.50</td>\n",
       "      <td>0.38</td>\n",
       "      <td>0.27</td>\n",
       "      <td>107361.68</td>\n",
       "      <td>36434.16</td>\n",
       "    </tr>\n",
       "    <tr>\n",
       "      <th>min</th>\n",
       "      <td>1000.00</td>\n",
       "      <td>5.31</td>\n",
       "      <td>29.76</td>\n",
       "      <td>0.00</td>\n",
       "      <td>0.00</td>\n",
       "      <td>0.00</td>\n",
       "      <td>0.00</td>\n",
       "      <td>0.00</td>\n",
       "      <td>0.00</td>\n",
       "      <td>0.00</td>\n",
       "      <td>0.00</td>\n",
       "      <td>0.00</td>\n",
       "      <td>0.00</td>\n",
       "      <td>0.00</td>\n",
       "      <td>0.00</td>\n",
       "      <td>0.00</td>\n",
       "    </tr>\n",
       "    <tr>\n",
       "      <th>25%</th>\n",
       "      <td>2000.00</td>\n",
       "      <td>9.89</td>\n",
       "      <td>62.85</td>\n",
       "      <td>32000.00</td>\n",
       "      <td>10.88</td>\n",
       "      <td>0.00</td>\n",
       "      <td>6.00</td>\n",
       "      <td>0.00</td>\n",
       "      <td>0.00</td>\n",
       "      <td>14521.75</td>\n",
       "      <td>0.00</td>\n",
       "      <td>0.00</td>\n",
       "      <td>0.00</td>\n",
       "      <td>0.00</td>\n",
       "      <td>29000.00</td>\n",
       "      <td>11174.50</td>\n",
       "    </tr>\n",
       "    <tr>\n",
       "      <th>50%</th>\n",
       "      <td>2500.00</td>\n",
       "      <td>12.73</td>\n",
       "      <td>84.95</td>\n",
       "      <td>45000.00</td>\n",
       "      <td>17.48</td>\n",
       "      <td>0.00</td>\n",
       "      <td>9.00</td>\n",
       "      <td>0.00</td>\n",
       "      <td>0.00</td>\n",
       "      <td>36709.50</td>\n",
       "      <td>0.00</td>\n",
       "      <td>0.00</td>\n",
       "      <td>0.00</td>\n",
       "      <td>0.00</td>\n",
       "      <td>58409.00</td>\n",
       "      <td>24198.50</td>\n",
       "    </tr>\n",
       "    <tr>\n",
       "      <th>75%</th>\n",
       "      <td>3000.00</td>\n",
       "      <td>16.01</td>\n",
       "      <td>101.67</td>\n",
       "      <td>62000.00</td>\n",
       "      <td>24.71</td>\n",
       "      <td>0.00</td>\n",
       "      <td>12.00</td>\n",
       "      <td>0.00</td>\n",
       "      <td>0.00</td>\n",
       "      <td>120654.50</td>\n",
       "      <td>2.00</td>\n",
       "      <td>0.00</td>\n",
       "      <td>0.00</td>\n",
       "      <td>0.00</td>\n",
       "      <td>151200.00</td>\n",
       "      <td>43735.25</td>\n",
       "    </tr>\n",
       "    <tr>\n",
       "      <th>max</th>\n",
       "      <td>3500.00</td>\n",
       "      <td>30.99</td>\n",
       "      <td>149.53</td>\n",
       "      <td>100000.00</td>\n",
       "      <td>999.00</td>\n",
       "      <td>20.00</td>\n",
       "      <td>54.00</td>\n",
       "      <td>4.00</td>\n",
       "      <td>208593.00</td>\n",
       "      <td>1147362.00</td>\n",
       "      <td>17.00</td>\n",
       "      <td>36.00</td>\n",
       "      <td>6.00</td>\n",
       "      <td>9.00</td>\n",
       "      <td>1163315.00</td>\n",
       "      <td>878659.00</td>\n",
       "    </tr>\n",
       "  </tbody>\n",
       "</table>\n",
       "</div>"
      ],
      "text/plain": [
       "       loan_amnt  int_rate  monthly_payment  annual_inc  total_dti  \\\n",
       "count   55168.00  55168.00         55168.00    55168.00   55129.00   \n",
       "mean     2409.73     13.24            81.34    47958.74      18.40   \n",
       "std       762.19      4.80            25.87    21300.29      14.21   \n",
       "min      1000.00      5.31            29.76        0.00       0.00   \n",
       "25%      2000.00      9.89            62.85    32000.00      10.88   \n",
       "50%      2500.00     12.73            84.95    45000.00      17.48   \n",
       "75%      3000.00     16.01           101.67    62000.00      24.71   \n",
       "max      3500.00     30.99           149.53   100000.00     999.00   \n",
       "\n",
       "       delinq_2yrs  open_acc  cur_acct_delinq  tot_coll_amt  tot_cur_bal  \\\n",
       "count     55168.00  55168.00         55168.00      55168.00     55168.00   \n",
       "mean          0.29      9.70             0.00        254.70     80361.21   \n",
       "std           0.88      5.24             0.06       1798.34     96913.10   \n",
       "min           0.00      0.00             0.00          0.00         0.00   \n",
       "25%           0.00      6.00             0.00          0.00     14521.75   \n",
       "50%           0.00      9.00             0.00          0.00     36709.50   \n",
       "75%           0.00     12.00             0.00          0.00    120654.50   \n",
       "max          20.00     54.00             4.00     208593.00   1147362.00   \n",
       "\n",
       "       mort_acc  num_accts_120_pd  pub_rec_bankruptcies  tax_liens  \\\n",
       "count  55168.00          55168.00              55168.00   55168.00   \n",
       "mean       0.93              0.56                  0.14       0.03   \n",
       "std        1.42              1.50                  0.38       0.27   \n",
       "min        0.00              0.00                  0.00       0.00   \n",
       "25%        0.00              0.00                  0.00       0.00   \n",
       "50%        0.00              0.00                  0.00       0.00   \n",
       "75%        2.00              0.00                  0.00       0.00   \n",
       "max       17.00             36.00                  6.00       9.00   \n",
       "\n",
       "       credit_limit  total_bal_ex_mort  \n",
       "count      55168.00           55168.00  \n",
       "mean      103398.31           33670.97  \n",
       "std       107361.68           36434.16  \n",
       "min            0.00               0.00  \n",
       "25%        29000.00           11174.50  \n",
       "50%        58409.00           24198.50  \n",
       "75%       151200.00           43735.25  \n",
       "max      1163315.00          878659.00  "
      ]
     },
     "execution_count": 12,
     "metadata": {},
     "output_type": "execute_result"
    }
   ],
   "source": [
    "#review the summary statistics again to see if removing annual income outliers also removed other outliers in other attributes\n",
    "BNPL_clients.describe().round(2)"
   ]
  },
  {
   "cell_type": "markdown",
   "id": "6e3f85ec",
   "metadata": {},
   "source": [
    "Reviewing the summary statistics again, some values may seem extreme, like a credit limit of 978,976.\n",
    "However, considering the data from Kaggle does not have meta data, we cannot know the range or context of the attributes. \n",
    "\n",
    "Consider how credit limit could be in reference to a credit card's limit, but it can also be in reference to a person's overall credit limit - like when applying for a mortage. "
   ]
  },
  {
   "cell_type": "code",
   "execution_count": 13,
   "id": "53f9ca9f",
   "metadata": {},
   "outputs": [
    {
     "data": {
      "text/plain": [
       "<Axes: xlabel='annual_inc', ylabel='credit_limit'>"
      ]
     },
     "execution_count": 13,
     "metadata": {},
     "output_type": "execute_result"
    },
    {
     "data": {
      "image/png": "[encoded data removed]",
      "text/plain": [
       "<Figure size 640x480 with 1 Axes>"
      ]
     },
     "metadata": {},
     "output_type": "display_data"
    }
   ],
   "source": [
    "#reviewing annual income against credit limit, the values are increasing proportionally.\n",
    "sns.scatterplot(x=BNPL_clients['annual_inc'], y=BNPL_clients['credit_limit'])"
   ]
  },
  {
   "cell_type": "markdown",
   "id": "c619a9cf",
   "metadata": {},
   "source": [
    "Based off the summary statistics after removing annual income outliers, no further outliers will be removed. \n",
    "The dataset appears realistic and proportional. "
   ]
  },
  {
   "cell_type": "code",
   "execution_count": 14,
   "id": "6f23321a",
   "metadata": {},
   "outputs": [
    {
     "data": {
      "text/plain": [
       "loan_amnt                 int64\n",
       "loan_term                object\n",
       "int_rate                float64\n",
       "monthly_payment         float64\n",
       "sub_grade                object\n",
       "emp_title                object\n",
       "emp_length               object\n",
       "home_ownership           object\n",
       "annual_inc              float64\n",
       "verification_status      object\n",
       "loan_purpose             object\n",
       "addr_state               object\n",
       "total_dti               float64\n",
       "delinq_2yrs               int64\n",
       "open_acc                  int64\n",
       "application_type         object\n",
       "cur_acct_delinq           int64\n",
       "tot_coll_amt              int64\n",
       "tot_cur_bal               int64\n",
       "mort_acc                  int64\n",
       "num_accts_120_pd          int64\n",
       "pub_rec_bankruptcies      int64\n",
       "tax_liens                 int64\n",
       "credit_limit              int64\n",
       "total_bal_ex_mort         int64\n",
       "hardship_flag            object\n",
       "disbursement_method      object\n",
       "debt_settlement_flag     object\n",
       "loan_status              object\n",
       "dtype: object"
      ]
     },
     "execution_count": 14,
     "metadata": {},
     "output_type": "execute_result"
    }
   ],
   "source": [
    "#review the data types of the attributes\n",
    "BNPL_clients.dtypes"
   ]
  },
  {
   "cell_type": "code",
   "execution_count": 14,
   "id": "294eed4e",
   "metadata": {},
   "outputs": [
    {
     "data": {
      "text/html": [
       "<div>\n",
       "<style scoped>\n",
       "    .dataframe tbody tr th:only-of-type {\n",
       "        vertical-align: middle;\n",
       "    }\n",
       "\n",
       "    .dataframe tbody tr th {\n",
       "        vertical-align: top;\n",
       "    }\n",
       "\n",
       "    .dataframe thead th {\n",
       "        text-align: right;\n",
       "    }\n",
       "</style>\n",
       "<table border=\"1\" class=\"dataframe\">\n",
       "  <thead>\n",
       "    <tr style=\"text-align: right;\">\n",
       "      <th></th>\n",
       "      <th>loan_amnt</th>\n",
       "      <th>int_rate</th>\n",
       "      <th>monthly_payment</th>\n",
       "      <th>annual_inc</th>\n",
       "      <th>total_dti</th>\n",
       "      <th>tot_coll_amt</th>\n",
       "      <th>tot_cur_bal</th>\n",
       "      <th>credit_limit</th>\n",
       "    </tr>\n",
       "  </thead>\n",
       "  <tbody>\n",
       "    <tr>\n",
       "      <th>count</th>\n",
       "      <td>55168.00</td>\n",
       "      <td>55168.00</td>\n",
       "      <td>55168.00</td>\n",
       "      <td>55168.00</td>\n",
       "      <td>55129.00</td>\n",
       "      <td>55168.00</td>\n",
       "      <td>55168.00</td>\n",
       "      <td>55168.00</td>\n",
       "    </tr>\n",
       "    <tr>\n",
       "      <th>mean</th>\n",
       "      <td>2409.73</td>\n",
       "      <td>13.24</td>\n",
       "      <td>81.34</td>\n",
       "      <td>47958.74</td>\n",
       "      <td>18.40</td>\n",
       "      <td>254.70</td>\n",
       "      <td>80361.21</td>\n",
       "      <td>103398.31</td>\n",
       "    </tr>\n",
       "    <tr>\n",
       "      <th>std</th>\n",
       "      <td>762.19</td>\n",
       "      <td>4.80</td>\n",
       "      <td>25.87</td>\n",
       "      <td>21300.29</td>\n",
       "      <td>14.21</td>\n",
       "      <td>1798.34</td>\n",
       "      <td>96913.10</td>\n",
       "      <td>107361.68</td>\n",
       "    </tr>\n",
       "    <tr>\n",
       "      <th>min</th>\n",
       "      <td>1000.00</td>\n",
       "      <td>5.31</td>\n",
       "      <td>29.76</td>\n",
       "      <td>0.00</td>\n",
       "      <td>0.00</td>\n",
       "      <td>0.00</td>\n",
       "      <td>0.00</td>\n",
       "      <td>0.00</td>\n",
       "    </tr>\n",
       "    <tr>\n",
       "      <th>25%</th>\n",
       "      <td>2000.00</td>\n",
       "      <td>9.89</td>\n",
       "      <td>62.85</td>\n",
       "      <td>32000.00</td>\n",
       "      <td>10.88</td>\n",
       "      <td>0.00</td>\n",
       "      <td>14521.75</td>\n",
       "      <td>29000.00</td>\n",
       "    </tr>\n",
       "    <tr>\n",
       "      <th>50%</th>\n",
       "      <td>2500.00</td>\n",
       "      <td>12.73</td>\n",
       "      <td>84.95</td>\n",
       "      <td>45000.00</td>\n",
       "      <td>17.48</td>\n",
       "      <td>0.00</td>\n",
       "      <td>36709.50</td>\n",
       "      <td>58409.00</td>\n",
       "    </tr>\n",
       "    <tr>\n",
       "      <th>75%</th>\n",
       "      <td>3000.00</td>\n",
       "      <td>16.01</td>\n",
       "      <td>101.67</td>\n",
       "      <td>62000.00</td>\n",
       "      <td>24.71</td>\n",
       "      <td>0.00</td>\n",
       "      <td>120654.50</td>\n",
       "      <td>151200.00</td>\n",
       "    </tr>\n",
       "    <tr>\n",
       "      <th>max</th>\n",
       "      <td>3500.00</td>\n",
       "      <td>30.99</td>\n",
       "      <td>149.53</td>\n",
       "      <td>100000.00</td>\n",
       "      <td>999.00</td>\n",
       "      <td>208593.00</td>\n",
       "      <td>1147362.00</td>\n",
       "      <td>1163315.00</td>\n",
       "    </tr>\n",
       "  </tbody>\n",
       "</table>\n",
       "</div>"
      ],
      "text/plain": [
       "       loan_amnt  int_rate  monthly_payment  annual_inc  total_dti  \\\n",
       "count   55168.00  55168.00         55168.00    55168.00   55129.00   \n",
       "mean     2409.73     13.24            81.34    47958.74      18.40   \n",
       "std       762.19      4.80            25.87    21300.29      14.21   \n",
       "min      1000.00      5.31            29.76        0.00       0.00   \n",
       "25%      2000.00      9.89            62.85    32000.00      10.88   \n",
       "50%      2500.00     12.73            84.95    45000.00      17.48   \n",
       "75%      3000.00     16.01           101.67    62000.00      24.71   \n",
       "max      3500.00     30.99           149.53   100000.00     999.00   \n",
       "\n",
       "       tot_coll_amt  tot_cur_bal  credit_limit  \n",
       "count      55168.00     55168.00      55168.00  \n",
       "mean         254.70     80361.21     103398.31  \n",
       "std         1798.34     96913.10     107361.68  \n",
       "min            0.00         0.00          0.00  \n",
       "25%            0.00     14521.75      29000.00  \n",
       "50%            0.00     36709.50      58409.00  \n",
       "75%            0.00    120654.50     151200.00  \n",
       "max       208593.00   1147362.00    1163315.00  "
      ]
     },
     "execution_count": 14,
     "metadata": {},
     "output_type": "execute_result"
    }
   ],
   "source": [
    "#filter numerical, non-categorical and non-logical variable into a list and review summary statistics\n",
    "BNPL_numerical = BNPL_clients[['loan_amnt', 'int_rate', 'monthly_payment', 'annual_inc', 'total_dti', 'tot_coll_amt', 'tot_cur_bal', 'credit_limit']]\n",
    "\n",
    "BNPL_numerical.describe().round(2)"
   ]
  },
  {
   "cell_type": "code",
   "execution_count": 15,
   "id": "cd786c02",
   "metadata": {},
   "outputs": [
    {
     "data": {
      "text/plain": [
       "array(['Current', 'Fully Paid', 'In Grace Period', 'Late (31-120 days)',\n",
       "       'Late (16-30 days)', 'Charged Off', 'Default'], dtype=object)"
      ]
     },
     "execution_count": 15,
     "metadata": {},
     "output_type": "execute_result"
    }
   ],
   "source": [
    "#the dataset's target variable is loan_status, currently containing multiple categories\n",
    "BNPL_clients['loan_status'].unique()"
   ]
  },
  {
   "cell_type": "code",
   "execution_count": 17,
   "id": "3ff88fd7",
   "metadata": {},
   "outputs": [
    {
     "data": {
      "text/plain": [
       "Text(0.5, 0.98, 'Distribution of Target Variable')"
      ]
     },
     "execution_count": 17,
     "metadata": {},
     "output_type": "execute_result"
    },
    {
     "data": {
      "image/png": "[encoded data removed]",
      "text/plain": [
       "<Figure size 500x500 with 1 Axes>"
      ]
     },
     "metadata": {},
     "output_type": "display_data"
    }
   ],
   "source": [
    "#change all the categories into the two desired targets for binary classification; solvent and default\n",
    "\n",
    "BNPL_clients['loan_status'].replace(to_replace=('Current','Fully Paid','In Grace Period'), value='solvent', inplace=True)\n",
    "BNPL_clients['loan_status'].replace(to_replace=('Late (31-120 days)', 'Late (16-30 days)', 'Charged Off', 'Default'), value=\"default\", inplace=True)\n",
    "\n",
    "#generate a plot to confirm the distribution of the renamed target variable categories\n",
    "\n",
    "target_plot = sns.displot(BNPL_clients, x='loan_status')\n",
    "target_plot.fig.suptitle(\"Distribution of Target Variable\")"
   ]
  },
  {
   "cell_type": "markdown",
   "id": "db6e294a",
   "metadata": {},
   "source": [
    "Outliers removed and target variable simplified into binary classification labels, we'll now filter for missing values. "
   ]
  },
  {
   "cell_type": "code",
   "execution_count": 23,
   "id": "5d080f1a",
   "metadata": {},
   "outputs": [
    {
     "data": {
      "text/plain": [
       "loan_amnt                0\n",
       "loan_term                0\n",
       "int_rate                 0\n",
       "monthly_payment          0\n",
       "sub_grade                0\n",
       "emp_length               0\n",
       "home_ownership           0\n",
       "annual_inc               0\n",
       "verification_status      0\n",
       "loan_purpose             0\n",
       "addr_state               0\n",
       "total_dti               39\n",
       "delinq_2yrs              0\n",
       "open_acc                 0\n",
       "application_type         0\n",
       "cur_acct_delinq          0\n",
       "tot_coll_amt             0\n",
       "tot_cur_bal              0\n",
       "mort_acc                 0\n",
       "num_accts_120_pd         0\n",
       "pub_rec_bankruptcies     0\n",
       "tax_liens                0\n",
       "credit_limit             0\n",
       "total_bal_ex_mort        0\n",
       "hardship_flag            0\n",
       "disbursement_method      0\n",
       "debt_settlement_flag     0\n",
       "loan_status              0\n",
       "dtype: int64"
      ]
     },
     "execution_count": 23,
     "metadata": {},
     "output_type": "execute_result"
    }
   ],
   "source": [
    "#identify any missing values\n",
    "BNPL_clients.isna().sum()"
   ]
  },
  {
   "cell_type": "markdown",
   "id": "786648a7",
   "metadata": {},
   "source": [
    "Manually reviewing the dataset showed emp_length can be easily aggrevated into categories. "
   ]
  },
  {
   "cell_type": "code",
   "execution_count": 24,
   "id": "412c5740",
   "metadata": {},
   "outputs": [
    {
     "data": {
      "text/plain": [
       "['10+ years', '4 years', '3 years', '5 years', '1 year', ..., '2 years', '< 1 year', '6 years', '8 years', '9 years']\n",
       "Length: 11\n",
       "Categories (11, object): ['< 1 year' < '1 year' < '2 years' < '3 years' ... '7 years' < '8 years' < '9 years' < '10+ years']"
      ]
     },
     "execution_count": 24,
     "metadata": {},
     "output_type": "execute_result"
    }
   ],
   "source": [
    "#identify the categories of emp_length\n",
    "BNPL_clients['emp_length'].unique()"
   ]
  },
  {
   "cell_type": "code",
   "execution_count": 25,
   "id": "9a3c66d8",
   "metadata": {},
   "outputs": [
    {
     "data": {
      "image/png": "[encoded data removed]",
      "text/plain": [
       "<Figure size 640x480 with 1 Axes>"
      ]
     },
     "metadata": {},
     "output_type": "display_data"
    }
   ],
   "source": [
    "#check the distribution of the emp_length variable \n",
    "\n",
    "#first set the order of emp_length\n",
    "length_order = ['< 1 year','1 year', '2 years', '3 years', '4 years',  '5 years', '6 years',  '7 years', '8 years', '9 years', '10+ years']\n",
    "\n",
    "#apply the order via pd.Categorical\n",
    "BNPL_clients['emp_length'] = pd.Categorical(BNPL_clients['emp_length'], categories=length_order, ordered=True)\n",
    "length_counts = BNPL_clients['emp_length'].value_counts().reindex(BNPL_clients['emp_length'].cat.categories)\n",
    "\n",
    "#plot the distribution of emp_length\n",
    "length_counts.plot(kind='bar')\n",
    "plt.xlabel(\"Length at Employment\")\n",
    "plt.ylabel(\"Count\")\n",
    "plt.title(\"Distribution of Time At Current Employment\")\n",
    "plt.show()"
   ]
  },
  {
   "cell_type": "markdown",
   "id": "c46d851e",
   "metadata": {},
   "source": [
    "Replacing the missing values of emp_length with the mean value ('10+ years') could unintentionaly influence the models.\n",
    "Instead, the mode of the attribute ('5 years') will be used as a replacement."
   ]
  },
  {
   "cell_type": "code",
   "execution_count": 26,
   "id": "af334e96",
   "metadata": {},
   "outputs": [
    {
     "name": "stdout",
     "output_type": "stream",
     "text": [
      "0\n"
     ]
    },
    {
     "data": {
      "image/png": "[encoded data removed]",
      "text/plain": [
       "<Figure size 640x480 with 1 Axes>"
      ]
     },
     "metadata": {},
     "output_type": "display_data"
    }
   ],
   "source": [
    "#Replace the NA values with mode\n",
    "BNPL_clients['emp_length'] = BNPL_clients['emp_length'].fillna('5 years')\n",
    "\n",
    "#confirm the fillna() function was successful\n",
    "print(BNPL_clients['emp_length'].isna().sum())\n",
    "\n",
    "length_counts.plot(kind='bar')\n",
    "plt.xlabel(\"Length at Employment\")\n",
    "plt.ylabel(\"Count\")\n",
    "plt.title(\"Distribution of Time At Current Employment\")\n",
    "plt.show()"
   ]
  },
  {
   "cell_type": "markdown",
   "id": "daf0d50b",
   "metadata": {},
   "source": [
    "Moving onto the attribute emp_title, observing the raw dataset confirms aggregation of the values would be impossible. \n",
    "Likely this attribute allowed free entry as an answer, so job titles have incorrect grammar (no capital letters), incorrect spelling,\n",
    "or are just acronyms. \n",
    "\n",
    "Instead of replacing the missing values, the entire column will be dropped. "
   ]
  },
  {
   "cell_type": "code",
   "execution_count": 27,
   "id": "664fd974",
   "metadata": {},
   "outputs": [
    {
     "ename": "KeyError",
     "evalue": "\"['emp_title'] not found in axis\"",
     "output_type": "error",
     "traceback": [
      "\u001b[1;31m---------------------------------------------------------------------------\u001b[0m",
      "\u001b[1;31mKeyError\u001b[0m                                  Traceback (most recent call last)",
      "Cell \u001b[1;32mIn[27], line 2\u001b[0m\n\u001b[0;32m      1\u001b[0m \u001b[38;5;66;03m#drop emp_title column\u001b[39;00m\n\u001b[1;32m----> 2\u001b[0m BNPL_clients \u001b[38;5;241m=\u001b[39m \u001b[43mBNPL_clients\u001b[49m\u001b[38;5;241;43m.\u001b[39;49m\u001b[43mdrop\u001b[49m\u001b[43m(\u001b[49m\u001b[43mcolumns\u001b[49m\u001b[38;5;241;43m=\u001b[39;49m\u001b[38;5;124;43m'\u001b[39;49m\u001b[38;5;124;43memp_title\u001b[39;49m\u001b[38;5;124;43m'\u001b[39;49m\u001b[43m,\u001b[49m\u001b[43m \u001b[49m\u001b[43maxis\u001b[49m\u001b[38;5;241;43m=\u001b[39;49m\u001b[38;5;241;43m1\u001b[39;49m\u001b[43m)\u001b[49m\n\u001b[0;32m      4\u001b[0m \u001b[38;5;66;03m#confirm by checking the shape of the dataset\u001b[39;00m\n\u001b[0;32m      5\u001b[0m BNPL_clients\u001b[38;5;241m.\u001b[39mshape\n",
      "File \u001b[1;32m~\\AppData\\Local\\Packages\\PythonSoftwareFoundation.Python.3.11_qbz5n2kfra8p0\\LocalCache\\local-packages\\Python311\\site-packages\\pandas\\core\\frame.py:5581\u001b[0m, in \u001b[0;36mDataFrame.drop\u001b[1;34m(self, labels, axis, index, columns, level, inplace, errors)\u001b[0m\n\u001b[0;32m   5433\u001b[0m \u001b[38;5;28;01mdef\u001b[39;00m \u001b[38;5;21mdrop\u001b[39m(\n\u001b[0;32m   5434\u001b[0m     \u001b[38;5;28mself\u001b[39m,\n\u001b[0;32m   5435\u001b[0m     labels: IndexLabel \u001b[38;5;241m|\u001b[39m \u001b[38;5;28;01mNone\u001b[39;00m \u001b[38;5;241m=\u001b[39m \u001b[38;5;28;01mNone\u001b[39;00m,\n\u001b[1;32m   (...)\u001b[0m\n\u001b[0;32m   5442\u001b[0m     errors: IgnoreRaise \u001b[38;5;241m=\u001b[39m \u001b[38;5;124m\"\u001b[39m\u001b[38;5;124mraise\u001b[39m\u001b[38;5;124m\"\u001b[39m,\n\u001b[0;32m   5443\u001b[0m ) \u001b[38;5;241m-\u001b[39m\u001b[38;5;241m>\u001b[39m DataFrame \u001b[38;5;241m|\u001b[39m \u001b[38;5;28;01mNone\u001b[39;00m:\n\u001b[0;32m   5444\u001b[0m \u001b[38;5;250m    \u001b[39m\u001b[38;5;124;03m\"\"\"\u001b[39;00m\n\u001b[0;32m   5445\u001b[0m \u001b[38;5;124;03m    Drop specified labels from rows or columns.\u001b[39;00m\n\u001b[0;32m   5446\u001b[0m \n\u001b[1;32m   (...)\u001b[0m\n\u001b[0;32m   5579\u001b[0m \u001b[38;5;124;03m            weight  1.0     0.8\u001b[39;00m\n\u001b[0;32m   5580\u001b[0m \u001b[38;5;124;03m    \"\"\"\u001b[39;00m\n\u001b[1;32m-> 5581\u001b[0m     \u001b[38;5;28;01mreturn\u001b[39;00m \u001b[38;5;28;43msuper\u001b[39;49m\u001b[43m(\u001b[49m\u001b[43m)\u001b[49m\u001b[38;5;241;43m.\u001b[39;49m\u001b[43mdrop\u001b[49m\u001b[43m(\u001b[49m\n\u001b[0;32m   5582\u001b[0m \u001b[43m        \u001b[49m\u001b[43mlabels\u001b[49m\u001b[38;5;241;43m=\u001b[39;49m\u001b[43mlabels\u001b[49m\u001b[43m,\u001b[49m\n\u001b[0;32m   5583\u001b[0m \u001b[43m        \u001b[49m\u001b[43maxis\u001b[49m\u001b[38;5;241;43m=\u001b[39;49m\u001b[43maxis\u001b[49m\u001b[43m,\u001b[49m\n\u001b[0;32m   5584\u001b[0m \u001b[43m        \u001b[49m\u001b[43mindex\u001b[49m\u001b[38;5;241;43m=\u001b[39;49m\u001b[43mindex\u001b[49m\u001b[43m,\u001b[49m\n\u001b[0;32m   5585\u001b[0m \u001b[43m        \u001b[49m\u001b[43mcolumns\u001b[49m\u001b[38;5;241;43m=\u001b[39;49m\u001b[43mcolumns\u001b[49m\u001b[43m,\u001b[49m\n\u001b[0;32m   5586\u001b[0m \u001b[43m        \u001b[49m\u001b[43mlevel\u001b[49m\u001b[38;5;241;43m=\u001b[39;49m\u001b[43mlevel\u001b[49m\u001b[43m,\u001b[49m\n\u001b[0;32m   5587\u001b[0m \u001b[43m        \u001b[49m\u001b[43minplace\u001b[49m\u001b[38;5;241;43m=\u001b[39;49m\u001b[43minplace\u001b[49m\u001b[43m,\u001b[49m\n\u001b[0;32m   5588\u001b[0m \u001b[43m        \u001b[49m\u001b[43merrors\u001b[49m\u001b[38;5;241;43m=\u001b[39;49m\u001b[43merrors\u001b[49m\u001b[43m,\u001b[49m\n\u001b[0;32m   5589\u001b[0m \u001b[43m    \u001b[49m\u001b[43m)\u001b[49m\n",
      "File \u001b[1;32m~\\AppData\\Local\\Packages\\PythonSoftwareFoundation.Python.3.11_qbz5n2kfra8p0\\LocalCache\\local-packages\\Python311\\site-packages\\pandas\\core\\generic.py:4788\u001b[0m, in \u001b[0;36mNDFrame.drop\u001b[1;34m(self, labels, axis, index, columns, level, inplace, errors)\u001b[0m\n\u001b[0;32m   4786\u001b[0m \u001b[38;5;28;01mfor\u001b[39;00m axis, labels \u001b[38;5;129;01min\u001b[39;00m axes\u001b[38;5;241m.\u001b[39mitems():\n\u001b[0;32m   4787\u001b[0m     \u001b[38;5;28;01mif\u001b[39;00m labels \u001b[38;5;129;01mis\u001b[39;00m \u001b[38;5;129;01mnot\u001b[39;00m \u001b[38;5;28;01mNone\u001b[39;00m:\n\u001b[1;32m-> 4788\u001b[0m         obj \u001b[38;5;241m=\u001b[39m \u001b[43mobj\u001b[49m\u001b[38;5;241;43m.\u001b[39;49m\u001b[43m_drop_axis\u001b[49m\u001b[43m(\u001b[49m\u001b[43mlabels\u001b[49m\u001b[43m,\u001b[49m\u001b[43m \u001b[49m\u001b[43maxis\u001b[49m\u001b[43m,\u001b[49m\u001b[43m \u001b[49m\u001b[43mlevel\u001b[49m\u001b[38;5;241;43m=\u001b[39;49m\u001b[43mlevel\u001b[49m\u001b[43m,\u001b[49m\u001b[43m \u001b[49m\u001b[43merrors\u001b[49m\u001b[38;5;241;43m=\u001b[39;49m\u001b[43merrors\u001b[49m\u001b[43m)\u001b[49m\n\u001b[0;32m   4790\u001b[0m \u001b[38;5;28;01mif\u001b[39;00m inplace:\n\u001b[0;32m   4791\u001b[0m     \u001b[38;5;28mself\u001b[39m\u001b[38;5;241m.\u001b[39m_update_inplace(obj)\n",
      "File \u001b[1;32m~\\AppData\\Local\\Packages\\PythonSoftwareFoundation.Python.3.11_qbz5n2kfra8p0\\LocalCache\\local-packages\\Python311\\site-packages\\pandas\\core\\generic.py:4830\u001b[0m, in \u001b[0;36mNDFrame._drop_axis\u001b[1;34m(self, labels, axis, level, errors, only_slice)\u001b[0m\n\u001b[0;32m   4828\u001b[0m         new_axis \u001b[38;5;241m=\u001b[39m axis\u001b[38;5;241m.\u001b[39mdrop(labels, level\u001b[38;5;241m=\u001b[39mlevel, errors\u001b[38;5;241m=\u001b[39merrors)\n\u001b[0;32m   4829\u001b[0m     \u001b[38;5;28;01melse\u001b[39;00m:\n\u001b[1;32m-> 4830\u001b[0m         new_axis \u001b[38;5;241m=\u001b[39m \u001b[43maxis\u001b[49m\u001b[38;5;241;43m.\u001b[39;49m\u001b[43mdrop\u001b[49m\u001b[43m(\u001b[49m\u001b[43mlabels\u001b[49m\u001b[43m,\u001b[49m\u001b[43m \u001b[49m\u001b[43merrors\u001b[49m\u001b[38;5;241;43m=\u001b[39;49m\u001b[43merrors\u001b[49m\u001b[43m)\u001b[49m\n\u001b[0;32m   4831\u001b[0m     indexer \u001b[38;5;241m=\u001b[39m axis\u001b[38;5;241m.\u001b[39mget_indexer(new_axis)\n\u001b[0;32m   4833\u001b[0m \u001b[38;5;66;03m# Case for non-unique axis\u001b[39;00m\n\u001b[0;32m   4834\u001b[0m \u001b[38;5;28;01melse\u001b[39;00m:\n",
      "File \u001b[1;32m~\\AppData\\Local\\Packages\\PythonSoftwareFoundation.Python.3.11_qbz5n2kfra8p0\\LocalCache\\local-packages\\Python311\\site-packages\\pandas\\core\\indexes\\base.py:7070\u001b[0m, in \u001b[0;36mIndex.drop\u001b[1;34m(self, labels, errors)\u001b[0m\n\u001b[0;32m   7068\u001b[0m \u001b[38;5;28;01mif\u001b[39;00m mask\u001b[38;5;241m.\u001b[39many():\n\u001b[0;32m   7069\u001b[0m     \u001b[38;5;28;01mif\u001b[39;00m errors \u001b[38;5;241m!=\u001b[39m \u001b[38;5;124m\"\u001b[39m\u001b[38;5;124mignore\u001b[39m\u001b[38;5;124m\"\u001b[39m:\n\u001b[1;32m-> 7070\u001b[0m         \u001b[38;5;28;01mraise\u001b[39;00m \u001b[38;5;167;01mKeyError\u001b[39;00m(\u001b[38;5;124mf\u001b[39m\u001b[38;5;124m\"\u001b[39m\u001b[38;5;132;01m{\u001b[39;00mlabels[mask]\u001b[38;5;241m.\u001b[39mtolist()\u001b[38;5;132;01m}\u001b[39;00m\u001b[38;5;124m not found in axis\u001b[39m\u001b[38;5;124m\"\u001b[39m)\n\u001b[0;32m   7071\u001b[0m     indexer \u001b[38;5;241m=\u001b[39m indexer[\u001b[38;5;241m~\u001b[39mmask]\n\u001b[0;32m   7072\u001b[0m \u001b[38;5;28;01mreturn\u001b[39;00m \u001b[38;5;28mself\u001b[39m\u001b[38;5;241m.\u001b[39mdelete(indexer)\n",
      "\u001b[1;31mKeyError\u001b[0m: \"['emp_title'] not found in axis\""
     ]
    }
   ],
   "source": [
    "#drop emp_title column\n",
    "BNPL_clients = BNPL_clients.drop(columns='emp_title', axis=1)\n",
    "\n",
    "#confirm by checking the shape of the dataset\n",
    "BNPL_clients.shape"
   ]
  },
  {
   "cell_type": "markdown",
   "id": "cbada816",
   "metadata": {},
   "source": [
    "Moving onto total_dti, manually observing these observations reveals all are within the 'solvent' category. \n",
    "Dropping observations from the majority classification will not affect model performance."
   ]
  },
  {
   "cell_type": "code",
   "execution_count": 28,
   "id": "87b1a301",
   "metadata": {},
   "outputs": [
    {
     "data": {
      "text/plain": [
       "loan_amnt               0\n",
       "loan_term               0\n",
       "int_rate                0\n",
       "monthly_payment         0\n",
       "sub_grade               0\n",
       "emp_length              0\n",
       "home_ownership          0\n",
       "annual_inc              0\n",
       "verification_status     0\n",
       "loan_purpose            0\n",
       "addr_state              0\n",
       "total_dti               0\n",
       "delinq_2yrs             0\n",
       "open_acc                0\n",
       "application_type        0\n",
       "cur_acct_delinq         0\n",
       "tot_coll_amt            0\n",
       "tot_cur_bal             0\n",
       "mort_acc                0\n",
       "num_accts_120_pd        0\n",
       "pub_rec_bankruptcies    0\n",
       "tax_liens               0\n",
       "credit_limit            0\n",
       "total_bal_ex_mort       0\n",
       "hardship_flag           0\n",
       "disbursement_method     0\n",
       "debt_settlement_flag    0\n",
       "loan_status             0\n",
       "dtype: int64"
      ]
     },
     "execution_count": 28,
     "metadata": {},
     "output_type": "execute_result"
    }
   ],
   "source": [
    "#drop the total_dti NA rows\n",
    "BNPL_clients = pd.DataFrame.dropna(BNPL_clients, axis=0, subset='total_dti')\n",
    "\n",
    "#confirm no more NA values across all attributes\n",
    "BNPL_clients.isna().sum()"
   ]
  },
  {
   "cell_type": "code",
   "execution_count": 29,
   "id": "d681b2ac",
   "metadata": {},
   "outputs": [
    {
     "data": {
      "text/plain": [
       "(55129, 28)"
      ]
     },
     "execution_count": 29,
     "metadata": {},
     "output_type": "execute_result"
    }
   ],
   "source": [
    "BNPL_clients.shape"
   ]
  },
  {
   "cell_type": "code",
   "execution_count": 30,
   "id": "1d6fc17b",
   "metadata": {},
   "outputs": [],
   "source": [
    "#the data cleaning is now complete. Export the file for convenience. \n",
    "\n",
    "BNPL_clients.to_excel('clean_BNPL_python.xlsx')\n",
    "\n",
    "BNPL_clients.to_csv('clean_BNPL_python.csv')"
   ]
  }
 ],
 "metadata": {
  "kernelspec": {
   "display_name": "Python 3",
   "language": "python",
   "name": "python3"
  },
  "language_info": {
   "codemirror_mode": {
    "name": "ipython",
    "version": 3
   },
   "file_extension": ".py",
   "mimetype": "text/x-python",
   "name": "python",
   "nbconvert_exporter": "python",
   "pygments_lexer": "ipython3",
   "version": "3.11.9"
  }
 },
 "nbformat": 4,
 "nbformat_minor": 5
}
