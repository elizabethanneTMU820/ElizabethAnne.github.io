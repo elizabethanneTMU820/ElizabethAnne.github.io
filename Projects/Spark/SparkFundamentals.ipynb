{
  "nbformat": 4,
  "nbformat_minor": 0,
  "metadata": {
    "colab": {
      "provenance": [],
      "toc_visible": true
    },
    "kernelspec": {
      "name": "python3",
      "display_name": "Python 3"
    },
    "language_info": {
      "name": "python"
    }
  },
  "cells": [
    {
      "cell_type": "code",
      "execution_count": 1,
      "metadata": {
        "colab": {
          "base_uri": "https://localhost:8080/"
        },
        "id": "zPbKQCkCsj6L",
        "outputId": "91cab0ef-e999-4d41-dfe0-b8131b365370"
      },
      "outputs": [
        {
          "output_type": "stream",
          "name": "stdout",
          "text": [
            "openjdk version \"11.0.28\" 2025-07-15\n",
            "OpenJDK Runtime Environment (build 11.0.28+6-post-Ubuntu-1ubuntu122.04.1)\n",
            "OpenJDK 64-Bit Server VM (build 11.0.28+6-post-Ubuntu-1ubuntu122.04.1, mixed mode, sharing)\n"
          ]
        }
      ],
      "source": [
        "#confirm java is running\n",
        "!java -version"
      ]
    },
    {
      "cell_type": "code",
      "source": [
        "#install pyspark\n",
        "!pip install pyspark"
      ],
      "metadata": {
        "colab": {
          "base_uri": "https://localhost:8080/"
        },
        "id": "Xf_7x3lDsyg8",
        "outputId": "7cc68b3b-27e4-410b-acee-c90a17d6a073"
      },
      "execution_count": 2,
      "outputs": [
        {
          "output_type": "stream",
          "name": "stdout",
          "text": [
            "Requirement already satisfied: pyspark in /usr/local/lib/python3.12/dist-packages (3.5.1)\n",
            "Requirement already satisfied: py4j==0.10.9.7 in /usr/local/lib/python3.12/dist-packages (from pyspark) (0.10.9.7)\n"
          ]
        }
      ]
    },
    {
      "cell_type": "code",
      "source": [
        "#import relevant packages\n",
        "import os\n",
        "import json\n",
        "\n",
        "from pyspark.sql import SparkSession\n",
        "from pyspark.sql import functions as F\n",
        "from pyspark.sql.types import StructType, StructField, StringType, IntegerType, DoubleType, LongType, TimestampType\n",
        "from pyspark.ml.classification import DecisionTreeClassifier, RandomForestClassifier, NaiveBayes\n",
        "from pyspark.ml.evaluation import MulticlassClassificationEvaluator\n",
        "from pyspark.ml.feature import StandardScaler, StringIndexer, VectorAssembler, VectorIndexer, OneHotEncoder\n",
        "from pyspark.ml import pipeline\n",
        "from pyspark.ml.linalg import DenseVector\n",
        "\n",
        "import numpy as np\n",
        "import pandas as pd\n",
        "import sklearn\n",
        "from sklearn.model_selection import train_test_split\n",
        "from tabulate import tabulate\n",
        "import gc\n",
        "from sklearn.datasets import load_iris\n",
        "import csv"
      ],
      "metadata": {
        "id": "i0zYfVrNs6Od"
      },
      "execution_count": 47,
      "outputs": []
    },
    {
      "cell_type": "code",
      "source": [
        "#build a spark session\n",
        "spark = (SparkSession.builder\n",
        "         .appName('Spark Fundamentals')\n",
        "         .config('spark.executor.memory', '1G')\n",
        "         .config('spark.executor.cores', '4')\n",
        "         .getOrCreate())"
      ],
      "metadata": {
        "id": "UihOEXp-tly_"
      },
      "execution_count": 5,
      "outputs": []
    },
    {
      "cell_type": "code",
      "source": [
        "spark.sparkContext.setLogLevel('INFO')"
      ],
      "metadata": {
        "id": "g2eo0gkHus_E"
      },
      "execution_count": 6,
      "outputs": []
    },
    {
      "cell_type": "code",
      "source": [
        "spark.version"
      ],
      "metadata": {
        "colab": {
          "base_uri": "https://localhost:8080/",
          "height": 36
        },
        "id": "hDrYTzPruwjO",
        "outputId": "2b9dd639-5fd9-4a4a-e064-c20f4f496a17"
      },
      "execution_count": 7,
      "outputs": [
        {
          "output_type": "execute_result",
          "data": {
            "text/plain": [
              "'3.5.1'"
            ],
            "application/vnd.google.colaboratory.intrinsic+json": {
              "type": "string"
            }
          },
          "metadata": {},
          "execution_count": 7
        }
      ]
    },
    {
      "cell_type": "markdown",
      "source": [
        "# Working With Iris Dataset"
      ],
      "metadata": {
        "id": "xaaKwGdC9ZaU"
      }
    },
    {
      "cell_type": "code",
      "source": [
        "#load the data & export to CSV\n",
        "iris = load_iris()\n",
        "\n",
        "iris_df = pd.DataFrame(\n",
        "    data = iris.data,\n",
        "    columns = iris.feature_names\n",
        ")\n",
        "\n",
        "iris_df['species'] = iris.target\n",
        "\n",
        "iris_df['species_name'] = iris_df['species'].apply(lambda x: iris.target_names[x])\n",
        "\n",
        "iris_df.to_csv(\"iris.csv\", index = False)"
      ],
      "metadata": {
        "id": "mHeua8zNwQGb"
      },
      "execution_count": 28,
      "outputs": []
    },
    {
      "cell_type": "code",
      "source": [
        "#load the data for spark\n",
        "url = '/content/iris.csv'\n",
        "\n",
        "data = spark.read.format('csv')\\\n",
        "      .option(\"header\", \"true\")\\\n",
        "      .option(\"inferSchema\", \"true\")\\\n",
        "      .load(url)\n",
        "\n",
        "data.cache()"
      ],
      "metadata": {
        "colab": {
          "base_uri": "https://localhost:8080/"
        },
        "id": "NvZjWqTXuzRr",
        "outputId": "f7736f42-c59a-492a-ea0c-ff2cd540e4d0"
      },
      "execution_count": 29,
      "outputs": [
        {
          "output_type": "execute_result",
          "data": {
            "text/plain": [
              "DataFrame[sepal length (cm): double, sepal width (cm): double, petal length (cm): double, petal width (cm): double, species: int, species_name: string]"
            ]
          },
          "metadata": {},
          "execution_count": 29
        }
      ]
    },
    {
      "cell_type": "code",
      "source": [
        "#tally observations\n",
        "data.count()"
      ],
      "metadata": {
        "colab": {
          "base_uri": "https://localhost:8080/"
        },
        "id": "4pE09tKryIan",
        "outputId": "5423731c-5078-462a-c4aa-66186b3ea695"
      },
      "execution_count": 21,
      "outputs": [
        {
          "output_type": "execute_result",
          "data": {
            "text/plain": [
              "150"
            ]
          },
          "metadata": {},
          "execution_count": 21
        }
      ]
    },
    {
      "cell_type": "code",
      "source": [
        "#check the schema\n",
        "data.printSchema()"
      ],
      "metadata": {
        "colab": {
          "base_uri": "https://localhost:8080/"
        },
        "id": "u2ALPwldyM_X",
        "outputId": "e0683a90-ec6e-474c-97be-ac54d87ae68c"
      },
      "execution_count": 22,
      "outputs": [
        {
          "output_type": "stream",
          "name": "stdout",
          "text": [
            "root\n",
            " |-- sepal length (cm): double (nullable = true)\n",
            " |-- sepal width (cm): double (nullable = true)\n",
            " |-- petal length (cm): double (nullable = true)\n",
            " |-- petal width (cm): double (nullable = true)\n",
            " |-- species: integer (nullable = true)\n",
            " |-- species_name: string (nullable = true)\n",
            "\n"
          ]
        }
      ]
    },
    {
      "cell_type": "code",
      "source": [
        "data.show(5)"
      ],
      "metadata": {
        "colab": {
          "base_uri": "https://localhost:8080/"
        },
        "id": "v4bJaCOFyPHf",
        "outputId": "0d600548-29cd-478e-e067-0ecf1faa1430"
      },
      "execution_count": 23,
      "outputs": [
        {
          "output_type": "stream",
          "name": "stdout",
          "text": [
            "+-----------------+----------------+-----------------+----------------+-------+------------+\n",
            "|sepal length (cm)|sepal width (cm)|petal length (cm)|petal width (cm)|species|species_name|\n",
            "+-----------------+----------------+-----------------+----------------+-------+------------+\n",
            "|              5.1|             3.5|              1.4|             0.2|      0|      setosa|\n",
            "|              4.9|             3.0|              1.4|             0.2|      0|      setosa|\n",
            "|              4.7|             3.2|              1.3|             0.2|      0|      setosa|\n",
            "|              4.6|             3.1|              1.5|             0.2|      0|      setosa|\n",
            "|              5.0|             3.6|              1.4|             0.2|      0|      setosa|\n",
            "+-----------------+----------------+-----------------+----------------+-------+------------+\n",
            "only showing top 5 rows\n",
            "\n"
          ]
        }
      ]
    },
    {
      "cell_type": "code",
      "source": [
        "#tally by species\n",
        "data.groupBy('species').count().show()"
      ],
      "metadata": {
        "colab": {
          "base_uri": "https://localhost:8080/"
        },
        "id": "jupStOTxySSO",
        "outputId": "e81692f0-0fd4-4084-aa81-fee7f4f29982"
      },
      "execution_count": 24,
      "outputs": [
        {
          "output_type": "stream",
          "name": "stdout",
          "text": [
            "+-------+-----+\n",
            "|species|count|\n",
            "+-------+-----+\n",
            "|      1|   50|\n",
            "|      2|   50|\n",
            "|      0|   50|\n",
            "+-------+-----+\n",
            "\n"
          ]
        }
      ]
    },
    {
      "cell_type": "code",
      "source": [
        "#summary statistics of the data\n",
        "data.describe().show()"
      ],
      "metadata": {
        "colab": {
          "base_uri": "https://localhost:8080/"
        },
        "id": "ufhGFd2-yeg1",
        "outputId": "1028a14c-3603-4212-9a0f-022ba8c5581c"
      },
      "execution_count": 25,
      "outputs": [
        {
          "output_type": "stream",
          "name": "stdout",
          "text": [
            "+-------+------------------+-------------------+------------------+------------------+------------------+------------+\n",
            "|summary| sepal length (cm)|   sepal width (cm)| petal length (cm)|  petal width (cm)|           species|species_name|\n",
            "+-------+------------------+-------------------+------------------+------------------+------------------+------------+\n",
            "|  count|               150|                150|               150|               150|               150|         150|\n",
            "|   mean| 5.843333333333335|  3.057333333333334|3.7580000000000027| 1.199333333333334|               1.0|        NULL|\n",
            "| stddev|0.8280661279778637|0.43586628493669793|1.7652982332594662|0.7622376689603467|0.8192319205190406|        NULL|\n",
            "|    min|               4.3|                2.0|               1.0|               0.1|                 0|      setosa|\n",
            "|    max|               7.9|                4.4|               6.9|               2.5|                 2|   virginica|\n",
            "+-------+------------------+-------------------+------------------+------------------+------------------+------------+\n",
            "\n"
          ]
        }
      ]
    },
    {
      "cell_type": "code",
      "source": [
        "#the data was loaded with species already converted to numerics\n",
        "#the following showcases use of StringIndexer to make a new column\n",
        "\n",
        "SIndexer = StringIndexer(inputCol='species', outputCol='species_index')\n",
        "data_sample = SIndexer.fit(data).transform(data)\n",
        "\n",
        "data_sample.show(5)"
      ],
      "metadata": {
        "colab": {
          "base_uri": "https://localhost:8080/"
        },
        "id": "e3SYSOboyyrw",
        "outputId": "fd9c3878-97cd-490f-c648-9bd30b59e49e"
      },
      "execution_count": 30,
      "outputs": [
        {
          "output_type": "stream",
          "name": "stdout",
          "text": [
            "+-----------------+----------------+-----------------+----------------+-------+------------+-------------+\n",
            "|sepal length (cm)|sepal width (cm)|petal length (cm)|petal width (cm)|species|species_name|species_index|\n",
            "+-----------------+----------------+-----------------+----------------+-------+------------+-------------+\n",
            "|              5.1|             3.5|              1.4|             0.2|      0|      setosa|          0.0|\n",
            "|              4.9|             3.0|              1.4|             0.2|      0|      setosa|          0.0|\n",
            "|              4.7|             3.2|              1.3|             0.2|      0|      setosa|          0.0|\n",
            "|              4.6|             3.1|              1.5|             0.2|      0|      setosa|          0.0|\n",
            "|              5.0|             3.6|              1.4|             0.2|      0|      setosa|          0.0|\n",
            "+-----------------+----------------+-----------------+----------------+-------+------------+-------------+\n",
            "only showing top 5 rows\n",
            "\n"
          ]
        }
      ]
    },
    {
      "cell_type": "code",
      "source": [
        "#confirm column names\n",
        "data.columns"
      ],
      "metadata": {
        "colab": {
          "base_uri": "https://localhost:8080/"
        },
        "id": "k49DBbPDzpa3",
        "outputId": "77424962-0128-4b84-c53c-747909bf93a3"
      },
      "execution_count": 32,
      "outputs": [
        {
          "output_type": "execute_result",
          "data": {
            "text/plain": [
              "['sepal length (cm)',\n",
              " 'sepal width (cm)',\n",
              " 'petal length (cm)',\n",
              " 'petal width (cm)',\n",
              " 'species',\n",
              " 'species_name']"
            ]
          },
          "metadata": {},
          "execution_count": 32
        }
      ]
    },
    {
      "cell_type": "code",
      "source": [
        "#remove flower names\n",
        "df = data.select(\"species\", \"sepal length (cm)\", \"sepal width (cm)\", \"petal length (cm)\", \"petal width (cm)\")\n",
        "df.show(5)"
      ],
      "metadata": {
        "colab": {
          "base_uri": "https://localhost:8080/"
        },
        "id": "LbLJvWdkzYja",
        "outputId": "a3c489b4-0471-48d4-d333-30fa388513a3"
      },
      "execution_count": 33,
      "outputs": [
        {
          "output_type": "stream",
          "name": "stdout",
          "text": [
            "+-------+-----------------+----------------+-----------------+----------------+\n",
            "|species|sepal length (cm)|sepal width (cm)|petal length (cm)|petal width (cm)|\n",
            "+-------+-----------------+----------------+-----------------+----------------+\n",
            "|      0|              5.1|             3.5|              1.4|             0.2|\n",
            "|      0|              4.9|             3.0|              1.4|             0.2|\n",
            "|      0|              4.7|             3.2|              1.3|             0.2|\n",
            "|      0|              4.6|             3.1|              1.5|             0.2|\n",
            "|      0|              5.0|             3.6|              1.4|             0.2|\n",
            "+-------+-----------------+----------------+-----------------+----------------+\n",
            "only showing top 5 rows\n",
            "\n"
          ]
        }
      ]
    },
    {
      "cell_type": "code",
      "source": [
        "#define the species column as a dense vector (e.g. label) for the future models\n",
        "\n",
        "input_data = df.rdd.map(lambda x: (x[0], DenseVector(x[1:])))"
      ],
      "metadata": {
        "id": "ifztM8Toz9je"
      },
      "execution_count": 34,
      "outputs": []
    },
    {
      "cell_type": "code",
      "source": [
        "#create a dataframe holding the labels and features\n",
        "df_index = spark.createDataFrame(input_data, ['label', 'features'])"
      ],
      "metadata": {
        "id": "GJvg1ClC0RmO"
      },
      "execution_count": 35,
      "outputs": []
    },
    {
      "cell_type": "code",
      "source": [
        "df_index.show(5)"
      ],
      "metadata": {
        "colab": {
          "base_uri": "https://localhost:8080/"
        },
        "id": "LLOYGv4f0dWX",
        "outputId": "f58c247d-ba08-402b-f403-5ee05416bcff"
      },
      "execution_count": 36,
      "outputs": [
        {
          "output_type": "stream",
          "name": "stdout",
          "text": [
            "+-----+-----------------+\n",
            "|label|         features|\n",
            "+-----+-----------------+\n",
            "|    0|[5.1,3.5,1.4,0.2]|\n",
            "|    0|[4.9,3.0,1.4,0.2]|\n",
            "|    0|[4.7,3.2,1.3,0.2]|\n",
            "|    0|[4.6,3.1,1.5,0.2]|\n",
            "|    0|[5.0,3.6,1.4,0.2]|\n",
            "+-----+-----------------+\n",
            "only showing top 5 rows\n",
            "\n"
          ]
        }
      ]
    },
    {
      "cell_type": "code",
      "source": [
        "#scaling to normalize the data\n",
        "\n",
        "stdScaler = StandardScaler(inputCol = \"features\", outputCol = \"features_scaled\")\n",
        "\n",
        "scaler = stdScaler.fit(df_index)\n",
        "\n",
        "df_scaler = scaler.transform(df_index)\n",
        "\n",
        "df_scaler.show(5)"
      ],
      "metadata": {
        "colab": {
          "base_uri": "https://localhost:8080/"
        },
        "id": "pgvz2ABu0mWU",
        "outputId": "340c92cd-9630-421d-9316-8ffaee314936"
      },
      "execution_count": 38,
      "outputs": [
        {
          "output_type": "stream",
          "name": "stdout",
          "text": [
            "+-----+-----------------+--------------------+\n",
            "|label|         features|     features_scaled|\n",
            "+-----+-----------------+--------------------+\n",
            "|    0|[5.1,3.5,1.4,0.2]|[6.15892840883878...|\n",
            "|    0|[4.9,3.0,1.4,0.2]|[5.9174018045706,...|\n",
            "|    0|[4.7,3.2,1.3,0.2]|[5.67587520030241...|\n",
            "|    0|[4.6,3.1,1.5,0.2]|[5.55511189816831...|\n",
            "|    0|[5.0,3.6,1.4,0.2]|[6.03816510670469...|\n",
            "+-----+-----------------+--------------------+\n",
            "only showing top 5 rows\n",
            "\n"
          ]
        }
      ]
    },
    {
      "cell_type": "code",
      "source": [
        "df_scaled = df_scaler.drop(\"features\")"
      ],
      "metadata": {
        "id": "O8iHkpyW1skv"
      },
      "execution_count": 39,
      "outputs": []
    },
    {
      "cell_type": "code",
      "source": [
        "#train / test split the model\n",
        "\n",
        "train_data, test_data = df_scaled.randomSplit([0.8, 0.2], seed = 123)"
      ],
      "metadata": {
        "id": "eAAgpAxR2M_A"
      },
      "execution_count": 40,
      "outputs": []
    },
    {
      "cell_type": "code",
      "source": [
        "train_data.show(5)"
      ],
      "metadata": {
        "colab": {
          "base_uri": "https://localhost:8080/"
        },
        "id": "kKC5eo1f2ZGo",
        "outputId": "53547566-7e71-4726-aaf6-899d2be29191"
      },
      "execution_count": 41,
      "outputs": [
        {
          "output_type": "stream",
          "name": "stdout",
          "text": [
            "+-----+--------------------+\n",
            "|label|     features_scaled|\n",
            "+-----+--------------------+\n",
            "|    0|[5.19282199176603...|\n",
            "|    0|[5.31358529390013...|\n",
            "|    0|[5.31358529390013...|\n",
            "|    0|[5.43434859603422...|\n",
            "|    0|[5.55511189816831...|\n",
            "+-----+--------------------+\n",
            "only showing top 5 rows\n",
            "\n"
          ]
        }
      ]
    },
    {
      "cell_type": "markdown",
      "source": [
        "## Machine Learning"
      ],
      "metadata": {
        "id": "lcT2RvmM9UdD"
      }
    },
    {
      "cell_type": "code",
      "source": [
        "#build ML models\n",
        "\n",
        "model = ['Decision Tree', 'Random Forest', 'Naive Bayes']\n",
        "model_results = []"
      ],
      "metadata": {
        "id": "pDi5UlV02ctu"
      },
      "execution_count": 47,
      "outputs": []
    },
    {
      "cell_type": "code",
      "source": [
        "#decision tree\n",
        "\n",
        "decision_tree = DecisionTreeClassifier(labelCol = \"label\", featuresCol = \"features_scaled\")\n",
        "\n",
        "tree_model = decision_tree.fit(train_data)\n",
        "\n",
        "tree_predict = tree_model.transform(test_data)\n",
        "\n",
        "#evaluate the model\n",
        "evaluator = MulticlassClassificationEvaluator(labelCol = \"label\", predictionCol = \"prediction\", metricName = \"accuracy\")\n",
        "\n",
        "model_accuracy = evaluator.evaluate(tree_predict)\n",
        "\n",
        "model_results.extend([[model[0], '{:.2}'.format(model_accuracy)]])"
      ],
      "metadata": {
        "id": "kY_-cwlJ2oJV"
      },
      "execution_count": 49,
      "outputs": []
    },
    {
      "cell_type": "code",
      "source": [
        "#random forest\n",
        "\n",
        "random_forest = RandomForestClassifier(labelCol = \"label\", featuresCol=\"features_scaled\")\n",
        "\n",
        "forest_model = random_forest.fit(train_data)\n",
        "\n",
        "forest_predict = forest_model.transform(test_data)\n",
        "\n",
        "#evaluate the model\n",
        "rf_evaluator = MulticlassClassificationEvaluator(labelCol = 'label', predictionCol = 'prediction', metricName = 'accuracy')\n",
        "\n",
        "rf_model_accuracy = rf_evaluator.evaluate(forest_predict)\n",
        "\n",
        "model_results.extend([[model[1], '{:.2}'.format(rf_model_accuracy)]])"
      ],
      "metadata": {
        "id": "S6r-MciZ4hk1"
      },
      "execution_count": 50,
      "outputs": []
    },
    {
      "cell_type": "code",
      "source": [
        "#Naive Bayes\n",
        "\n",
        "nv_bayes = NaiveBayes(smoothing = 1.0, modelType = \"multinomial\", labelCol = \"label\", featuresCol=\"features_scaled\")\n",
        "\n",
        "nbayes_model = nv_bayes.fit(train_data)\n",
        "\n",
        "nbayes_predict = nbayes_model.transform(test_data)\n",
        "\n",
        "#evaluate model\n",
        "\n",
        "nv_evaluation = MulticlassClassificationEvaluator(labelCol = \"label\", predictionCol = 'prediction', metricName = \"accuracy\")\n",
        "\n",
        "nv_model_accuracy = nv_evaluation.evaluate(nbayes_predict)\n",
        "\n",
        "model_results.extend([[model[2], '{:.2}'.format(nv_model_accuracy)]])"
      ],
      "metadata": {
        "id": "x87LdfpF6E9I"
      },
      "execution_count": 51,
      "outputs": []
    },
    {
      "cell_type": "code",
      "source": [
        "gc.collect()"
      ],
      "metadata": {
        "colab": {
          "base_uri": "https://localhost:8080/"
        },
        "id": "dT6kZCAI8D4P",
        "outputId": "cef9e10e-20a8-4baf-956c-a6e5354f36df"
      },
      "execution_count": 52,
      "outputs": [
        {
          "output_type": "execute_result",
          "data": {
            "text/plain": [
              "867"
            ]
          },
          "metadata": {},
          "execution_count": 52
        }
      ]
    },
    {
      "cell_type": "code",
      "source": [
        "print(tabulate(model_results, headers=['Classifier Models', 'Accuracy']))"
      ],
      "metadata": {
        "colab": {
          "base_uri": "https://localhost:8080/"
        },
        "id": "9w-DAoAJ8HNo",
        "outputId": "e37db742-ff85-423d-f398-7bf7d5ec2926"
      },
      "execution_count": 53,
      "outputs": [
        {
          "output_type": "stream",
          "name": "stdout",
          "text": [
            "Classifier Models      Accuracy\n",
            "-------------------  ----------\n",
            "Decision Tree              0.93\n",
            "Random Forest              0.97\n",
            "Naive Bayes                0.97\n"
          ]
        }
      ]
    },
    {
      "cell_type": "markdown",
      "source": [
        "# Working with Big Data"
      ],
      "metadata": {
        "id": "Pa-ywyMj9niB"
      }
    },
    {
      "cell_type": "code",
      "source": [
        "#we'll download a large dataset of Amazon reviews using curl\n",
        "\n",
        "!curl -O https://mcauleylab.ucsd.edu/public_datasets/data/amazon_2023/raw/review_categories/Automotive.jsonl.gz\n",
        "!gunzip -f Automotive.jsonl.gz"
      ],
      "metadata": {
        "id": "t4aXS_cw9rRL"
      },
      "execution_count": 2,
      "outputs": []
    },
    {
      "cell_type": "code",
      "source": [
        "#the data is zipped, how big is it?\n",
        "\n",
        "print(f'The size of the zipped file is: {os.path.getsize(\"/content/Automotive.jsonl\") / (1024 ** 3):.2f} GB')"
      ],
      "metadata": {
        "colab": {
          "base_uri": "https://localhost:8080/"
        },
        "id": "yW_pU433958J",
        "outputId": "3c962f75-3dfa-4729-b6fc-c0819c288088"
      },
      "execution_count": 5,
      "outputs": [
        {
          "output_type": "stream",
          "name": "stdout",
          "text": [
            "The size of the zipped file is: 8.13 GB\n"
          ]
        }
      ]
    },
    {
      "cell_type": "code",
      "source": [
        "#start a spark session\n",
        "\n",
        "spark = SparkSession.builder.appName(\"AutomotiveData\").getOrCreate()\n",
        "\n",
        "print(f'The Spark Version is {spark.version}')"
      ],
      "metadata": {
        "colab": {
          "base_uri": "https://localhost:8080/"
        },
        "id": "yqEHtk9XA4nv",
        "outputId": "068de177-b380-4500-ae39-a7ad3c114fb4"
      },
      "execution_count": 14,
      "outputs": [
        {
          "output_type": "stream",
          "name": "stdout",
          "text": [
            "The Spark Version is 3.5.1\n"
          ]
        }
      ]
    },
    {
      "cell_type": "code",
      "source": [
        "#let's try reading the data via pandas\n",
        "\n",
        "test_df = pd.read_json('/content/Automotive.jsonl', lines = True)\n",
        "print(test_df)"
      ],
      "metadata": {
        "id": "4C-RHLtFBEic"
      },
      "execution_count": null,
      "outputs": []
    },
    {
      "cell_type": "code",
      "source": [
        "#if you run the above code, the session will fail due to all available RAM being used.\n",
        "\n",
        "#clearly, the data is too massive to be handled with conventional packages.\n",
        "\n",
        "#Spark is required!"
      ],
      "metadata": {
        "id": "bI9GqbrkmHlu"
      },
      "execution_count": null,
      "outputs": []
    },
    {
      "cell_type": "code",
      "source": [
        "#let's confirm the columns of the data\n",
        "\n",
        "with open('/content/Automotive.jsonl', 'r') as file:\n",
        "  line = file.readline()\n",
        "  record = json.loads(line)\n",
        "  print(pd.Series(record))"
      ],
      "metadata": {
        "colab": {
          "base_uri": "https://localhost:8080/"
        },
        "id": "4nkHyOyMnCm-",
        "outputId": "d625637e-e12f-4edf-e60c-6e8c53266f78"
      },
      "execution_count": 6,
      "outputs": [
        {
          "output_type": "stream",
          "name": "stdout",
          "text": [
            "rating                                                             5.0\n",
            "title                          It fit our 2012 Chevy Colorado perfect!\n",
            "text                 Item came as described! It fit our 2012 Chevy ...\n",
            "images                                                              []\n",
            "asin                                                        B01LZA8SGZ\n",
            "parent_asin                                                 B0BV88374L\n",
            "user_id                                   AGXVBIUFLFGMVLATYXHJYL4A5Q7Q\n",
            "timestamp                                                1513092936205\n",
            "helpful_vote                                                         0\n",
            "verified_purchase                                                 True\n",
            "dtype: object\n"
          ]
        }
      ]
    },
    {
      "cell_type": "code",
      "source": [
        "#making a PySpark Dataframe\n",
        "\n",
        "schema = StructType([\n",
        "    StructField(\"rating\", DoubleType(), True),\n",
        "    StructField(\"title\", StringType(), True),\n",
        "    StructField(\"text\", StringType(), True),\n",
        "    StructField(\"images\", StringType(), True),\n",
        "    StructField(\"asin\", StringType(), True),\n",
        "    StructField(\"parent_asin\", StringType(), True),\n",
        "    StructField(\"user_id\", StringType(), True),\n",
        "    StructField(\"timestamp\", TimestampType(), True),\n",
        "    StructField(\"helpful_vote\", IntegerType(), True),\n",
        "    StructField(\"verified_purchase\", IntegerType(), True)\n",
        "])"
      ],
      "metadata": {
        "id": "Ci3UOAALmUjP"
      },
      "execution_count": 50,
      "outputs": []
    },
    {
      "cell_type": "code",
      "source": [
        "spark_df = spark.read.schema(schema).json('/content/Automotive.jsonl')"
      ],
      "metadata": {
        "id": "PmMmlz0UqPAG"
      },
      "execution_count": 51,
      "outputs": []
    },
    {
      "cell_type": "code",
      "source": [
        "print(spark_df.show(5))"
      ],
      "metadata": {
        "colab": {
          "base_uri": "https://localhost:8080/"
        },
        "id": "m8aTQD7Qqj-d",
        "outputId": "ad68d6fc-0e6f-4742-8e08-14323ecb8dd2"
      },
      "execution_count": 52,
      "outputs": [
        {
          "output_type": "stream",
          "name": "stdout",
          "text": [
            "+------+--------------------+--------------------+------+----------+-----------+--------------------+--------------------+------------+-----------------+\n",
            "|rating|               title|                text|images|      asin|parent_asin|             user_id|           timestamp|helpful_vote|verified_purchase|\n",
            "+------+--------------------+--------------------+------+----------+-----------+--------------------+--------------------+------------+-----------------+\n",
            "|   5.0|It fit our 2012 C...|Item came as desc...|    []|B01LZA8SGZ| B0BV88374L|AGXVBIUFLFGMVLATY...|+49918-01-03 17:2...|           0|             NULL|\n",
            "|   5.0|    Easy to put on!!|Ease of applicati...|    []|B0B2WGS5ND| B0B2WGS5ND|AFE337D2J37YRU5U6...|+54545-07-22 13:5...|           0|             NULL|\n",
            "|   5.0|             Perfect|Nice quality, fra...|    []|B00A0GV20Q| B00A0GV20Q|AEVWAM3YWN5URJVJI...|+45975-02-05 15:4...|           0|             NULL|\n",
            "|   2.0|      Not waterproof|Description said ...|    []|B08C27WWVG| B08C27WWVG|AHITBJSS7KYUBVZPX...|+54313-07-06 07:0...|           0|             NULL|\n",
            "|   5.0|           Very nice|Looks great on my...|    []|B0719J5ZNY| B0719J5ZNY|AHITBJSS7KYUBVZPX...|+51851-02-25 06:0...|           0|             NULL|\n",
            "+------+--------------------+--------------------+------+----------+-----------+--------------------+--------------------+------------+-----------------+\n",
            "only showing top 5 rows\n",
            "\n",
            "None\n"
          ]
        }
      ]
    },
    {
      "cell_type": "code",
      "source": [
        "spark_df.printSchema()"
      ],
      "metadata": {
        "colab": {
          "base_uri": "https://localhost:8080/"
        },
        "id": "zBwyfxGdqurP",
        "outputId": "415b935d-f160-40b0-d6d9-1aac241a91e5"
      },
      "execution_count": 53,
      "outputs": [
        {
          "output_type": "stream",
          "name": "stdout",
          "text": [
            "root\n",
            " |-- rating: double (nullable = true)\n",
            " |-- title: string (nullable = true)\n",
            " |-- text: string (nullable = true)\n",
            " |-- images: string (nullable = true)\n",
            " |-- asin: string (nullable = true)\n",
            " |-- parent_asin: string (nullable = true)\n",
            " |-- user_id: string (nullable = true)\n",
            " |-- timestamp: timestamp (nullable = true)\n",
            " |-- helpful_vote: integer (nullable = true)\n",
            " |-- verified_purchase: integer (nullable = true)\n",
            "\n"
          ]
        }
      ]
    },
    {
      "cell_type": "code",
      "source": [
        "#depending on resources, the summary statistics make take over 10min to compute\n",
        "spark_df.describe().show()"
      ],
      "metadata": {
        "colab": {
          "base_uri": "https://localhost:8080/"
        },
        "id": "0UfnnGitqyyE",
        "outputId": "fd7796ad-b709-4d55-a510-a701679c43ac"
      },
      "execution_count": 18,
      "outputs": [
        {
          "output_type": "stream",
          "name": "stdout",
          "text": [
            "+-------+------------------+--------------------+------------+--------------------+--------------------+--------------------+--------------------+------------------+------------------+\n",
            "|summary|            rating|               title|        text|              images|                asin|         parent_asin|             user_id|      helpful_vote|vertified_purchase|\n",
            "+-------+------------------+--------------------+------------+--------------------+--------------------+--------------------+--------------------+------------------+------------------+\n",
            "|  count|          19955450|            19955450|    19955450|            19955450|            19955450|            19955450|            19955450|          19955450|                 0|\n",
            "|   mean| 4.182790716320604|                 NaN|    Infinity|                NULL| 4.609848654133604E9| 4.615182888455246E9|                NULL|0.6502186119581368|              NULL|\n",
            "| stddev|1.3815796733887575|                 NaN|         NaN|                NULL|3.8966614041073685E9|3.9923743844483523E9|                NULL| 5.657678307208537|              NULL|\n",
            "|    min|               1.0|                   !|            |                  []|          0010010017|          0010010017|AE2222C2STTMXNUHX...|                -4|              NULL|\n",
            "|    max|               5.0|󾠯󾠯󾠯󾠯󾠯󾠮󾠯󾠰?...|🫶🫶🫶🫶🫶🫶|[{\"small_image_ur...|          b000ie0yiq|          b000ie0yiq|AHZZZZYA4NULLM5PN...|              2822|              NULL|\n",
            "+-------+------------------+--------------------+------------+--------------------+--------------------+--------------------+--------------------+------------------+------------------+\n",
            "\n"
          ]
        }
      ]
    },
    {
      "cell_type": "code",
      "source": [
        "spark_df.select(\"title\").show(5)"
      ],
      "metadata": {
        "colab": {
          "base_uri": "https://localhost:8080/"
        },
        "id": "Vr5pP9X423Bo",
        "outputId": "a0f0f909-ed30-4da9-a1b1-9917b5aea404"
      },
      "execution_count": 43,
      "outputs": [
        {
          "output_type": "stream",
          "name": "stdout",
          "text": [
            "+--------------------+\n",
            "|               title|\n",
            "+--------------------+\n",
            "|It fit our 2012 C...|\n",
            "|    Easy to put on!!|\n",
            "|             Perfect|\n",
            "|      Not waterproof|\n",
            "|           Very nice|\n",
            "+--------------------+\n",
            "only showing top 5 rows\n",
            "\n"
          ]
        }
      ]
    },
    {
      "cell_type": "code",
      "source": [
        "spark_df.filter(spark_df[\"verified_purchase\"].isNull()).count()"
      ],
      "metadata": {
        "colab": {
          "base_uri": "https://localhost:8080/"
        },
        "id": "IctuKgbu3dW1",
        "outputId": "11430069-2572-447c-e4a7-b1878ac38f09"
      },
      "execution_count": 55,
      "outputs": [
        {
          "output_type": "execute_result",
          "data": {
            "text/plain": [
              "19955450"
            ]
          },
          "metadata": {},
          "execution_count": 55
        }
      ]
    },
    {
      "cell_type": "code",
      "source": [
        "spark_df.select(F.countDistinct(\"verified_purchase\")).show()"
      ],
      "metadata": {
        "colab": {
          "base_uri": "https://localhost:8080/"
        },
        "id": "D11qIc4N5XDZ",
        "outputId": "ad8a421c-a89f-4092-9dfb-a3d75f57464e"
      },
      "execution_count": 56,
      "outputs": [
        {
          "output_type": "stream",
          "name": "stdout",
          "text": [
            "+---------------------------------+\n",
            "|count(DISTINCT verified_purchase)|\n",
            "+---------------------------------+\n",
            "|                                0|\n",
            "+---------------------------------+\n",
            "\n"
          ]
        }
      ]
    },
    {
      "cell_type": "code",
      "source": [
        "spark_df.select(\"verified_purchase\").distinct().show()"
      ],
      "metadata": {
        "colab": {
          "base_uri": "https://localhost:8080/"
        },
        "id": "tRp8LjmR6MwJ",
        "outputId": "390b6eda-7753-4cb7-d1ac-b1129a64c5ed"
      },
      "execution_count": 57,
      "outputs": [
        {
          "output_type": "stream",
          "name": "stdout",
          "text": [
            "+-----------------+\n",
            "|verified_purchase|\n",
            "+-----------------+\n",
            "|             NULL|\n",
            "+-----------------+\n",
            "\n"
          ]
        }
      ]
    },
    {
      "cell_type": "code",
      "source": [
        "spark_df.groupBy('rating').count().show()"
      ],
      "metadata": {
        "colab": {
          "base_uri": "https://localhost:8080/"
        },
        "id": "l9p3kwUSubDv",
        "outputId": "43cc10cc-1de9-479b-c08c-d8f724303598"
      },
      "execution_count": 19,
      "outputs": [
        {
          "output_type": "stream",
          "name": "stdout",
          "text": [
            "+------+--------+\n",
            "|rating|   count|\n",
            "+------+--------+\n",
            "|   1.0| 2302427|\n",
            "|   4.0| 2172554|\n",
            "|   3.0| 1185429|\n",
            "|   2.0|  851553|\n",
            "|   5.0|13443487|\n",
            "+------+--------+\n",
            "\n"
          ]
        }
      ]
    },
    {
      "cell_type": "markdown",
      "source": [
        "## Spark SQL"
      ],
      "metadata": {
        "id": "IBZzmEzw1D7N"
      }
    },
    {
      "cell_type": "code",
      "source": [
        "#let's run some SQL statements\n",
        "\n",
        "spark_df.createOrReplaceGlobalTempView(\"spark_df\")"
      ],
      "metadata": {
        "id": "ORewX1k5wgqi"
      },
      "execution_count": 26,
      "outputs": []
    },
    {
      "cell_type": "code",
      "source": [
        "spark.sql(\"SELECT rating, helpful_vote \\\n",
        "          FROM global_temp.spark_df \\\n",
        "          WHERE rating >= 4 AND helpful_vote >= 10\").show()"
      ],
      "metadata": {
        "colab": {
          "base_uri": "https://localhost:8080/"
        },
        "id": "-APkl_GmvbiX",
        "outputId": "87189744-3902-47cc-ea1c-7fc929cfe138"
      },
      "execution_count": 28,
      "outputs": [
        {
          "output_type": "stream",
          "name": "stdout",
          "text": [
            "+------+------------+\n",
            "|rating|helpful_vote|\n",
            "+------+------------+\n",
            "|   5.0|          11|\n",
            "|   5.0|          54|\n",
            "|   5.0|          12|\n",
            "|   5.0|          83|\n",
            "|   4.0|          12|\n",
            "|   4.0|          15|\n",
            "|   5.0|          13|\n",
            "|   5.0|          17|\n",
            "|   4.0|          57|\n",
            "|   4.0|          14|\n",
            "|   5.0|         135|\n",
            "|   4.0|          36|\n",
            "|   5.0|          10|\n",
            "|   5.0|          21|\n",
            "|   5.0|          13|\n",
            "|   5.0|          11|\n",
            "|   5.0|          14|\n",
            "|   5.0|         175|\n",
            "|   5.0|          31|\n",
            "|   5.0|          11|\n",
            "+------+------------+\n",
            "only showing top 20 rows\n",
            "\n"
          ]
        }
      ]
    },
    {
      "cell_type": "code",
      "source": [
        "spark.sql(\"\"\"SELECT title, timestamp, helpful_vote, verified_purchase \\\n",
        "            FROM global_temp.spark_df \\\n",
        "            WHERE verified_purchase IS NULL \\\n",
        "            AND rating <= 2\"\"\").show()"
      ],
      "metadata": {
        "colab": {
          "base_uri": "https://localhost:8080/"
        },
        "id": "6wILi3OBxfpg",
        "outputId": "b671c933-9971-4795-f676-652ebcf67a16"
      },
      "execution_count": 34,
      "outputs": [
        {
          "output_type": "stream",
          "name": "stdout",
          "text": [
            "+-----+---------+------------+------------------+\n",
            "|title|timestamp|helpful_vote|vertified_purchase|\n",
            "+-----+---------+------------+------------------+\n",
            "+-----+---------+------------+------------------+\n",
            "\n"
          ]
        }
      ]
    },
    {
      "cell_type": "code",
      "source": [
        "spark.sql(\"\"\"SELECT title, timestamp, helpful_vote, verified_purchase \\\n",
        "            FROM global_temp.spark_df \\\n",
        "            WHERE verified_purchase = '1' \\\n",
        "            LIMIT 10\n",
        "            \"\"\").show()"
      ],
      "metadata": {
        "colab": {
          "base_uri": "https://localhost:8080/"
        },
        "id": "yQw_PNVv0W-p",
        "outputId": "c84bc0bd-51a1-4c71-9b02-546493f01e65"
      },
      "execution_count": 41,
      "outputs": [
        {
          "output_type": "stream",
          "name": "stdout",
          "text": [
            "+-----+---------+------------+------------------+\n",
            "|title|timestamp|helpful_vote|vertified_purchase|\n",
            "+-----+---------+------------+------------------+\n",
            "+-----+---------+------------+------------------+\n",
            "\n"
          ]
        }
      ]
    },
    {
      "cell_type": "code",
      "source": [
        "spark.sql(\"\"\"\n",
        "          SELECT rating, max(helpful_vote) \\\n",
        "          FROM global_temp.spark_df \\\n",
        "          GROUP BY rating \\\n",
        "          ORDER BY max(helpful_vote) \\\n",
        "          LIMIT 10\n",
        "          \"\"\").show()"
      ],
      "metadata": {
        "colab": {
          "base_uri": "https://localhost:8080/"
        },
        "id": "tlyICHZR0FXw",
        "outputId": "c4ecc066-3e0f-49f0-def7-7f2eedc7913c"
      },
      "execution_count": 39,
      "outputs": [
        {
          "output_type": "stream",
          "name": "stdout",
          "text": [
            "+------+-----------------+\n",
            "|rating|max(helpful_vote)|\n",
            "+------+-----------------+\n",
            "|   2.0|             1514|\n",
            "|   4.0|             1846|\n",
            "|   3.0|             2036|\n",
            "|   1.0|             2134|\n",
            "|   5.0|             2822|\n",
            "+------+-----------------+\n",
            "\n"
          ]
        }
      ]
    }
  ]
}
