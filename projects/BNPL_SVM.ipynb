{
  "nbformat": 4,
  "nbformat_minor": 0,
  "metadata": {
    "colab": {
      "provenance": []
    },
    "kernelspec": {
      "name": "python3",
      "display_name": "Python 3"
    },
    "language_info": {
      "name": "python"
    }
  },
  "cells": [
    {
      "cell_type": "code",
      "source": [
        "#import all relevant packages\n",
        "\n",
        "import pandas as pd\n",
        "import os\n",
        "from sklearn.preprocessing import MinMaxScaler, PolynomialFeatures\n",
        "from imblearn.over_sampling import SMOTE, KMeansSMOTE\n",
        "from sklearn.model_selection import train_test_split, cross_val_score\n",
        "from sklearn.svm import LinearSVC, SVC\n",
        "from sklearn.metrics import confusion_matrix, accuracy_score, recall_score\n",
        "from statsmodels.tools.tools import add_constant\n",
        "from google.colab import files\n",
        "import seaborn as sns"
      ],
      "metadata": {
        "id": "B91GFgNuajGR"
      },
      "execution_count": 2,
      "outputs": []
    },
    {
      "cell_type": "code",
      "execution_count": 4,
      "metadata": {
        "id": "pigPkndcUWOM"
      },
      "outputs": [],
      "source": [
        "#import and read the dataset\n",
        "#os.chdir(\"/clean_BNPL_clients.csv\")\n",
        "\n",
        "bnpl = pd.read_csv('clean_BNPL_python.csv')\n",
        "\n",
        "#define a function to convert category features into numerical\n",
        "\n",
        "def encode_categoricals(df, categorical_features):\n",
        "  for col in categorical_features:\n",
        "    df[col] = df[col].astype(\"category\").cat.codes\n",
        "  return df\n",
        "\n",
        "#identify the numerical categories\n",
        "\n",
        "bnpl_continuous = bnpl[['loan_amnt', 'int_rate', 'monthly_payment', 'annual_inc', 'total_dti', 'tot_coll_amt', 'tot_cur_bal', \\\n",
        "                                  'total_bal_ex_mort','credit_limit']]\n",
        "\n",
        "#identify categorical categories\n",
        "\n",
        "bnpl_categor = bnpl[['loan_term', 'sub_grade', 'emp_length', 'home_ownership', 'verification_status', 'loan_purpose', \\\n",
        "                               'delinq_2yrs', 'open_acc','addr_state', 'application_type', 'cur_acct_delinq', 'mort_acc', \\\n",
        "                               'num_accts_120_pd', 'pub_rec_bankruptcies', 'tax_liens', 'hardship_flag', 'disbursement_method', \\\n",
        "                               'debt_settlement_flag']]\n",
        "#source the column indices\n",
        "bnpl_categor_indx = [bnpl.columns.get_loc(col) for col in bnpl_categor]\n",
        "\n",
        "#use the encoding function to convert the string variables into numerical\n",
        "\n",
        "bnpl_num = encode_categoricals(bnpl, bnpl_categor)\n",
        "\n",
        "#enact one-hot encoding\n",
        "bnpl_num = pd.get_dummies(bnpl_num, columns=bnpl_categor.columns,\n",
        "                          prefix = bnpl_categor.columns)\n",
        "\n",
        "#split the data into training and test sets\n",
        "\n",
        "bnpl_att = bnpl_num.drop(['loan_status'], axis=1)\n",
        "bnpl_tar = bnpl_num['loan_status']\n",
        "\n",
        "from sklearn.model_selection import train_test_split\n",
        "\n",
        "bnpl_att_train, bnpl_att_test, bnpl_tar_train, bnpl_tar_test = train_test_split(bnpl_att, bnpl_tar, test_size=0.3, random_state=55)\n",
        "\n",
        "#resample the data with SMOTE, which will go on to be used in the models\n",
        "\n",
        "from imblearn.over_sampling import SMOTE\n",
        "bnpl_smote = SMOTE(random_state=1000)\n",
        "\n",
        "bnpl_train_att_resample, bnpl_train_tar_resample = bnpl_smote.fit_resample(bnpl_att_train, bnpl_tar_train)\n",
        "\n",
        "#resample the data with k-means SMOTE methods\n",
        "\n",
        "from imblearn.over_sampling import KMeansSMOTE\n",
        "bnpl_KMsmote = KMeansSMOTE(random_state=1000, cluster_balance_threshold=0.1, kmeans_estimator=30)\n",
        "\n",
        "bnpl_train_att_KM_resample, bnpl_train_tar_KM_resample = bnpl_KMsmote.fit_resample(bnpl_att_train, bnpl_tar_train)"
      ]
    },
    {
      "cell_type": "code",
      "source": [
        "#develop a support vector machine model\n",
        "\n",
        "scaler = MinMaxScaler()\n",
        "bnpl_train_att_scaled = scaler.fit_transform(bnpl_train_att_resample)\n",
        "\n",
        "#In this first instance, we will operate on a linear approach to separation\n",
        "bnpl_svm = LinearSVC(C = 1, random_state=55)\n"
      ],
      "metadata": {
        "id": "qiGoYRUTxT58"
      },
      "execution_count": 6,
      "outputs": []
    },
    {
      "cell_type": "code",
      "source": [
        "#cross validation of SVM\n",
        "svm_cv_scores = cross_val_score(bnpl_svm, bnpl_train_att_scaled, bnpl_train_tar_resample, cv= 5, scoring =\"accuracy\")"
      ],
      "metadata": {
        "id": "FnE2fK4pxlkp"
      },
      "execution_count": 7,
      "outputs": []
    },
    {
      "cell_type": "code",
      "source": [
        "print(\"Cross-Validation Accuracy Scores on Training Set:\", svm_cv_scores)\n",
        "print(\"Average Cross-Validation Accuracy on Training Set:\", svm_cv_scores.mean())"
      ],
      "metadata": {
        "colab": {
          "base_uri": "https://localhost:8080/"
        },
        "id": "hzglQ_Dfxqz2",
        "outputId": "6ccb6d97-8a3a-49f8-e3d7-94dc812843c2"
      },
      "execution_count": 8,
      "outputs": [
        {
          "output_type": "stream",
          "name": "stdout",
          "text": [
            "Cross-Validation Accuracy Scores on Training Set: [0.78338591 0.99993428 0.99967138 0.99993428 0.99953993]\n",
            "Average Cross-Validation Accuracy on Training Set: 0.956493152994945\n"
          ]
        }
      ]
    },
    {
      "cell_type": "code",
      "source": [
        "#train the model on the full dataset\n",
        "\n",
        "bnpl_svm.fit(bnpl_train_att_scaled, bnpl_train_tar_resample)\n",
        "\n",
        "#scale the test attributes\n",
        "bnpl_test_att_scaled = scaler.fit_transform(bnpl_att_test)\n",
        "\n",
        "tar_pred_test_svm = bnpl_svm.predict(bnpl_test_att_scaled)\n",
        "\n",
        "svm_testaccuracy = accuracy_score(bnpl_tar_test, tar_pred_test_svm)\n",
        "sensitivity = recall_score(bnpl_tar_test, tar_pred_test_svm, pos_label='solvent')\n",
        "specificity = recall_score(bnpl_tar_test, tar_pred_test_svm, pos_label='default')\n",
        "conf_matrix = confusion_matrix(bnpl_tar_test, tar_pred_test_svm)\n",
        "\n",
        "# Output the results\n",
        "print(\"Confusion Matrix:\\n\", conf_matrix)\n",
        "print(\"Test Accuracy:\", svm_testaccuracy)\n",
        "print(\"Sensitivity (Recall for Default):\", sensitivity)\n",
        "print(\"Specificity (Recall for Solvent):\", specificity)"
      ],
      "metadata": {
        "colab": {
          "base_uri": "https://localhost:8080/"
        },
        "id": "Didvmn6La6uf",
        "outputId": "495aa899-d034-4116-c31f-4f57a6c9eb9a"
      },
      "execution_count": 9,
      "outputs": [
        {
          "output_type": "stream",
          "name": "stdout",
          "text": [
            "Confusion Matrix:\n",
            " [[  184  1204]\n",
            " [    2 16326]]\n",
            "Test Accuracy: 0.9319259426507113\n",
            "Sensitivity (Recall for Default): 0.9998775110240078\n",
            "Specificity (Recall for Solvent): 0.13256484149855907\n"
          ]
        }
      ]
    },
    {
      "cell_type": "code",
      "source": [
        "# Extract TP, FP, TN, FN from the confusion matrix\n",
        "tn, fp, fn, tp = conf_matrix.ravel()\n",
        "print(\"True Negatives (TN):\", tn)\n",
        "print(\"False Positives (FP):\", fp)\n",
        "print(\"False Negatives (FN):\", fn)\n",
        "print(\"True Positives (TP):\", tp)"
      ],
      "metadata": {
        "colab": {
          "base_uri": "https://localhost:8080/"
        },
        "id": "xHnYg3sFeqGU",
        "outputId": "17ee236e-19ef-4512-b2d6-8eca0e9a82c6"
      },
      "execution_count": 10,
      "outputs": [
        {
          "output_type": "stream",
          "name": "stdout",
          "text": [
            "True Negatives (TN): 184\n",
            "False Positives (FP): 1204\n",
            "False Negatives (FN): 2\n",
            "True Positives (TP): 16326\n"
          ]
        }
      ]
    },
    {
      "cell_type": "code",
      "source": [
        "clrmap = sns.color_palette(\"mako\", as_cmap=True)\n",
        "sns.heatmap(conf_matrix, cmap = clrmap)"
      ],
      "metadata": {
        "colab": {
          "base_uri": "https://localhost:8080/",
          "height": 447
        },
        "id": "E-O0x2hueQ27",
        "outputId": "a055123c-1682-48b3-ac03-40ce0a5bc501"
      },
      "execution_count": 17,
      "outputs": [
        {
          "output_type": "execute_result",
          "data": {
            "text/plain": [
              "<Axes: >"
            ]
          },
          "metadata": {},
          "execution_count": 17
        },
        {
          "output_type": "display_data",
          "data": {
            "text/plain": [
              "<Figure size 640x480 with 2 Axes>"
            ],
            "image/png": "[encoded data removed]"
          },
          "metadata": {}
        }
      ]
    },
    {
      "cell_type": "markdown",
      "source": [
        "# Repeat with KMSMOTE"
      ],
      "metadata": {
        "id": "mOb5o2AYfDnn"
      }
    },
    {
      "cell_type": "code",
      "source": [
        "bnpl_train_att_KM_scaled = scaler.fit_transform(bnpl_train_att_KM_resample)\n",
        "\n",
        "#initialize log reg model\n",
        "bnpl_svm_km = LinearSVC(C = 1, random_state=55)\n",
        "\n",
        "svm_cv_scores_KM = cross_val_score(bnpl_svm_km, bnpl_train_att_KM_scaled, bnpl_train_tar_KM_resample, cv= 5, scoring =\"accuracy\")\n",
        "\n",
        "print(\"Cross-Validation Accuracy Scores on Training Set:\", svm_cv_scores_KM)\n",
        "print(\"Average Cross-Validation Accuracy on Training Set:\", svm_cv_scores_KM.mean())"
      ],
      "metadata": {
        "colab": {
          "base_uri": "https://localhost:8080/"
        },
        "id": "XrpPUykBfFe6",
        "outputId": "70cfb544-f127-4739-efb2-929623ea47e5"
      },
      "execution_count": 12,
      "outputs": [
        {
          "output_type": "stream",
          "name": "stdout",
          "text": [
            "Cross-Validation Accuracy Scores on Training Set: [0.7877374  0.99993428 0.99967142 0.99993428 0.99967142]\n",
            "Average Cross-Validation Accuracy on Training Set: 0.9573897614510087\n"
          ]
        }
      ]
    },
    {
      "cell_type": "code",
      "source": [
        "#train the model on the full dataset\n",
        "\n",
        "bnpl_svm_km.fit(bnpl_train_att_KM_scaled, bnpl_train_tar_KM_resample)\n",
        "\n",
        "tar_pred_test_svm_km = bnpl_svm_km.predict(bnpl_test_att_scaled)\n",
        "\n",
        "svm_km_testaccuracy = accuracy_score(bnpl_tar_test, tar_pred_test_svm_km)\n",
        "sensitivity = recall_score(bnpl_tar_test, tar_pred_test_svm_km, pos_label='solvent')\n",
        "specificity = recall_score(bnpl_tar_test, tar_pred_test_svm_km, pos_label='default')\n",
        "conf_matrix = confusion_matrix(bnpl_tar_test, tar_pred_test_svm_km)\n",
        "\n",
        "# Output the results\n",
        "print(\"Confusion Matrix:\\n\", conf_matrix)\n",
        "print(\"Test Accuracy:\", svm_km_testaccuracy)\n",
        "print(\"Sensitivity (Recall for Solvent):\", sensitivity)\n",
        "print(\"Specificity (Recall for Default):\", specificity)"
      ],
      "metadata": {
        "colab": {
          "base_uri": "https://localhost:8080/"
        },
        "id": "NFMsBw1PfeZB",
        "outputId": "05dfa0ce-ad4f-4843-b8d1-a5d783c4c714"
      },
      "execution_count": 13,
      "outputs": [
        {
          "output_type": "stream",
          "name": "stdout",
          "text": [
            "Confusion Matrix:\n",
            " [[  184  1204]\n",
            " [    3 16325]]\n",
            "Test Accuracy: 0.9318694965003387\n",
            "Sensitivity (Recall for Solvent): 0.9998162665360117\n",
            "Specificity (Recall for Default): 0.13256484149855907\n"
          ]
        }
      ]
    },
    {
      "cell_type": "code",
      "source": [
        "# Extract TP, FP, TN, FN from the confusion matrix\n",
        "tn, fp, fn, tp = conf_matrix.ravel()\n",
        "print(\"True Negatives (TN):\", tn)\n",
        "print(\"False Positives (FP):\", fp)\n",
        "print(\"False Negatives (FN):\", fn)\n",
        "print(\"True Positives (TP):\", tp)"
      ],
      "metadata": {
        "colab": {
          "base_uri": "https://localhost:8080/"
        },
        "id": "FfxG3DSPfuon",
        "outputId": "0391b779-2dc0-4cc1-ac3f-9b132192f32b"
      },
      "execution_count": 14,
      "outputs": [
        {
          "output_type": "stream",
          "name": "stdout",
          "text": [
            "True Negatives (TN): 184\n",
            "False Positives (FP): 1204\n",
            "False Negatives (FN): 3\n",
            "True Positives (TP): 16325\n"
          ]
        }
      ]
    },
    {
      "cell_type": "code",
      "source": [
        "sns.heatmap(conf_matrix, cmap = clrmap)"
      ],
      "metadata": {
        "colab": {
          "base_uri": "https://localhost:8080/",
          "height": 447
        },
        "id": "_qXquTWUfxes",
        "outputId": "89b437f8-7ae5-44f3-9c94-4319f90ae625"
      },
      "execution_count": 18,
      "outputs": [
        {
          "output_type": "execute_result",
          "data": {
            "text/plain": [
              "<Axes: >"
            ]
          },
          "metadata": {},
          "execution_count": 18
        },
        {
          "output_type": "display_data",
          "data": {
            "text/plain": [
              "<Figure size 640x480 with 2 Axes>"
            ],
            "image/png": "[encoded data removed]"
          },
          "metadata": {}
        }
      ]
    }
  ]
}