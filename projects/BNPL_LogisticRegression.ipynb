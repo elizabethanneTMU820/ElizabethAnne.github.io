{
  "nbformat": 4,
  "nbformat_minor": 0,
  "metadata": {
    "colab": {
      "provenance": []
    },
    "kernelspec": {
      "name": "python3",
      "display_name": "Python 3"
    },
    "language_info": {
      "name": "python"
    }
  },
  "cells": [
    {
      "cell_type": "code",
      "source": [
        "#import all relevant packages\n",
        "\n",
        "import pandas as pd\n",
        "import os\n",
        "from sklearn.preprocessing import StandardScaler, MinMaxScaler\n",
        "from imblearn.over_sampling import SMOTE\n",
        "from sklearn.model_selection import train_test_split\n",
        "from imblearn.over_sampling import KMeansSMOTE\n",
        "from sklearn.linear_model import LogisticRegression\n",
        "from sklearn.model_selection import cross_val_score\n",
        "from sklearn.metrics import confusion_matrix, accuracy_score, recall_score\n",
        "from statsmodels.tools.tools import add_constant\n",
        "from google.colab import files\n",
        "import seaborn as sns"
      ],
      "metadata": {
        "id": "B91GFgNuajGR"
      },
      "execution_count": null,
      "outputs": []
    },
    {
      "cell_type": "code",
      "execution_count": null,
      "metadata": {
        "id": "pigPkndcUWOM"
      },
      "outputs": [],
      "source": [
        "#import and read the dataset\n",
        "#os.chdir(\"/clean_BNPL_clients.csv\")\n",
        "\n",
        "bnpl = pd.read_csv('clean_BNPL_python.csv')\n",
        "\n",
        "#define a function to convert category features into numerical\n",
        "\n",
        "def encode_categoricals(df, categorical_features):\n",
        "  for col in categorical_features:\n",
        "    df[col] = df[col].astype(\"category\").cat.codes\n",
        "  return df\n",
        "\n",
        "#identify the numerical categories\n",
        "\n",
        "bnpl_continuous = bnpl[['loan_amnt', 'int_rate', 'monthly_payment', 'annual_inc', 'total_dti', 'tot_coll_amt', 'tot_cur_bal', \\\n",
        "                                  'total_bal_ex_mort','credit_limit']]\n",
        "\n",
        "#identify categorical categories\n",
        "\n",
        "bnpl_categor = bnpl[['loan_term', 'sub_grade', 'emp_length', 'home_ownership', 'verification_status', 'loan_purpose', \\\n",
        "                               'delinq_2yrs', 'open_acc','addr_state', 'application_type', 'cur_acct_delinq', 'mort_acc', \\\n",
        "                               'num_accts_120_pd', 'pub_rec_bankruptcies', 'tax_liens', 'hardship_flag', 'disbursement_method', \\\n",
        "                               'debt_settlement_flag']]\n",
        "#source the column indices\n",
        "bnpl_categor_indx = [bnpl.columns.get_loc(col) for col in bnpl_categor]\n",
        "\n",
        "#use the encoding function to convert the string variables into numerical\n",
        "\n",
        "bnpl_num = encode_categoricals(bnpl, bnpl_categor)\n",
        "\n",
        "#enact one-hot encoding\n",
        "bnpl_num = pd.get_dummies(bnpl_num, columns=bnpl_categor.columns,\n",
        "                          prefix = bnpl_categor.columns)\n",
        "\n",
        "#split the data into training and test sets\n",
        "\n",
        "bnpl_att = bnpl_num.drop(['loan_status'], axis=1)\n",
        "bnpl_tar = bnpl_num['loan_status']\n",
        "\n",
        "from sklearn.model_selection import train_test_split\n",
        "\n",
        "bnpl_att_train, bnpl_att_test, bnpl_tar_train, bnpl_tar_test = train_test_split(bnpl_att, bnpl_tar, test_size=0.3, random_state=55)\n",
        "\n",
        "#resample the data with SMOTE, which will go on to be used in the models\n",
        "\n",
        "from imblearn.over_sampling import SMOTE\n",
        "bnpl_smote = SMOTE(random_state=1000)\n",
        "\n",
        "bnpl_train_att_resample, bnpl_train_tar_resample = bnpl_smote.fit_resample(bnpl_att_train, bnpl_tar_train)\n",
        "\n",
        "#resample the data with k-means SMOTE methods\n",
        "\n",
        "from imblearn.over_sampling import KMeansSMOTE\n",
        "bnpl_KMsmote = KMeansSMOTE(random_state=1000, cluster_balance_threshold=0.1, kmeans_estimator=30)\n",
        "\n",
        "bnpl_train_att_KM_resample, bnpl_train_tar_KM_resample = bnpl_KMsmote.fit_resample(bnpl_att_train, bnpl_tar_train)"
      ]
    },
    {
      "cell_type": "code",
      "source": [
        "#develop a logistic regression model for a baseline model the experimental models will be compared to\n",
        "\n",
        "scaler = MinMaxScaler()\n",
        "bnpl_train_att_scaled = scaler.fit_transform(bnpl_train_att_resample)\n",
        "\n",
        "#initialize log reg model\n",
        "bnpl_log_reg = LogisticRegression()\n",
        "\n",
        "lgrg_cv_scores = cross_val_score(bnpl_log_reg, bnpl_train_att_scaled, bnpl_train_tar_resample, cv= 5, scoring =\"accuracy\")\n",
        "\n",
        "print(\"Cross-Validation Accuracy Scores on Training Set:\", lgrg_cv_scores)\n",
        "print(\"Average Cross-Validation Accuracy on Training Set:\", lgrg_cv_scores.mean())"
      ],
      "metadata": {
        "colab": {
          "base_uri": "https://localhost:8080/"
        },
        "id": "9rpCC4x3U9SF",
        "outputId": "c0a99f42-7f12-4339-ca48-e2678059676e"
      },
      "execution_count": null,
      "outputs": [
        {
          "output_type": "stream",
          "name": "stdout",
          "text": [
            "Cross-Validation Accuracy Scores on Training Set: [0.8002103  0.99967138 0.99953993 0.99967138 0.9994742 ]\n",
            "Average Cross-Validation Accuracy on Training Set: 0.9597134379190937\n"
          ]
        }
      ]
    },
    {
      "cell_type": "code",
      "source": [
        "#train the model on the full dataset\n",
        "\n",
        "bnpl_log_reg.fit(bnpl_train_att_scaled, bnpl_train_tar_resample)\n",
        "\n",
        "#scale the test attributes\n",
        "bnpl_test_att_scaled = scaler.fit_transform(bnpl_att_test)\n",
        "\n",
        "tar_pred_test_lgrg = bnpl_log_reg.predict(bnpl_test_att_scaled)\n",
        "\n",
        "from sklearn.metrics import confusion_matrix, accuracy_score, recall_score\n",
        "\n",
        "lgrg_testaccuracy = accuracy_score(bnpl_tar_test, tar_pred_test_lgrg)\n",
        "sensitivity = recall_score(bnpl_tar_test, tar_pred_test_lgrg, pos_label='solvent')\n",
        "specificity = recall_score(bnpl_tar_test, tar_pred_test_lgrg, pos_label='default')\n",
        "conf_matrix = confusion_matrix(bnpl_tar_test, tar_pred_test_lgrg)\n",
        "\n",
        "# Output the results\n",
        "print(\"Confusion Matrix:\\n\", conf_matrix)\n",
        "print(\"Test Accuracy:\", lgrg_testaccuracy)\n",
        "print(\"Sensitivity (Recall for Default):\", sensitivity)\n",
        "print(\"Specificity (Recall for Solvent):\", specificity)"
      ],
      "metadata": {
        "colab": {
          "base_uri": "https://localhost:8080/"
        },
        "id": "Didvmn6La6uf",
        "outputId": "cc8fc47e-8849-49d3-cc06-6d42cc7f7422"
      },
      "execution_count": null,
      "outputs": [
        {
          "output_type": "stream",
          "name": "stdout",
          "text": [
            "Confusion Matrix:\n",
            " [[  186  1202]\n",
            " [    6 16322]]\n",
            "Test Accuracy: 0.9318130503499661\n",
            "Sensitivity (Recall for Default): 0.9996325330720235\n",
            "Specificity (Recall for Solvent): 0.1340057636887608\n"
          ]
        }
      ]
    },
    {
      "cell_type": "code",
      "source": [
        "# Extract TP, FP, TN, FN from the confusion matrix\n",
        "tn, fp, fn, tp = conf_matrix.ravel()\n",
        "print(\"True Negatives (TN):\", tn)\n",
        "print(\"False Positives (FP):\", fp)\n",
        "print(\"False Negatives (FN):\", fn)\n",
        "print(\"True Positives (TP):\", tp)"
      ],
      "metadata": {
        "colab": {
          "base_uri": "https://localhost:8080/"
        },
        "id": "xHnYg3sFeqGU",
        "outputId": "1b101a7b-09a0-42f5-f64e-0f52beea1d36"
      },
      "execution_count": null,
      "outputs": [
        {
          "output_type": "stream",
          "name": "stdout",
          "text": [
            "True Negatives (TN): 186\n",
            "False Positives (FP): 1202\n",
            "False Negatives (FN): 6\n",
            "True Positives (TP): 16322\n"
          ]
        }
      ]
    },
    {
      "cell_type": "code",
      "source": [
        "sns.heatmap(conf_matrix)"
      ],
      "metadata": {
        "colab": {
          "base_uri": "https://localhost:8080/",
          "height": 447
        },
        "id": "E-O0x2hueQ27",
        "outputId": "d78c49a7-f6c2-4b8b-891f-0bdb4ffe9f6a"
      },
      "execution_count": null,
      "outputs": [
        {
          "output_type": "execute_result",
          "data": {
            "text/plain": [
              "<Axes: >"
            ]
          },
          "metadata": {},
          "execution_count": 7
        },
        {
          "output_type": "display_data",
          "data": {
            "text/plain": [
              "<Figure size 640x480 with 2 Axes>"
            ],
            "image/png": "[encoded data removed]"
          },
          "metadata": {}
        }
      ]
    },
    {
      "cell_type": "markdown",
      "source": [
        "# Repeat with KMSMOTE"
      ],
      "metadata": {
        "id": "mOb5o2AYfDnn"
      }
    },
    {
      "cell_type": "code",
      "source": [
        "bnpl_train_att_KM_scaled = scaler.fit_transform(bnpl_train_att_KM_resample)\n",
        "\n",
        "#initialize log reg model\n",
        "bnpl_log_reg = LogisticRegression()\n",
        "\n",
        "lgrg_cv_scores_KM = cross_val_score(bnpl_log_reg, bnpl_train_att_KM_scaled, bnpl_train_tar_KM_resample, cv= 5, scoring =\"accuracy\")\n",
        "\n",
        "print(\"Cross-Validation Accuracy Scores on Training Set:\", lgrg_cv_scores_KM)\n",
        "print(\"Average Cross-Validation Accuracy on Training Set:\", lgrg_cv_scores_KM.mean())"
      ],
      "metadata": {
        "colab": {
          "base_uri": "https://localhost:8080/"
        },
        "id": "XrpPUykBfFe6",
        "outputId": "fc2d0b1e-7c4b-4515-e650-9396d915f40e"
      },
      "execution_count": null,
      "outputs": [
        {
          "output_type": "stream",
          "name": "stdout",
          "text": [
            "Cross-Validation Accuracy Scores on Training Set: [0.80153775 0.99973714 0.99980285 0.99973714 0.99953999]\n",
            "Average Cross-Validation Accuracy on Training Set: 0.9600709732535979\n"
          ]
        }
      ]
    },
    {
      "cell_type": "code",
      "source": [
        "#train the model on the full dataset\n",
        "\n",
        "bnpl_log_reg.fit(bnpl_train_att_KM_scaled, bnpl_train_tar_KM_resample)\n",
        "\n",
        "tar_pred_test_lgrg = bnpl_log_reg.predict(bnpl_test_att_scaled)\n",
        "\n",
        "from sklearn.metrics import confusion_matrix, accuracy_score, recall_score\n",
        "\n",
        "lgrg_testaccuracy = accuracy_score(bnpl_tar_test, tar_pred_test_lgrg)\n",
        "sensitivity = recall_score(bnpl_tar_test, tar_pred_test_lgrg, pos_label='solvent')\n",
        "specificity = recall_score(bnpl_tar_test, tar_pred_test_lgrg, pos_label='default')\n",
        "conf_matrix = confusion_matrix(bnpl_tar_test, tar_pred_test_lgrg)\n",
        "\n",
        "# Output the results\n",
        "print(\"Confusion Matrix:\\n\", conf_matrix)\n",
        "print(\"Test Accuracy:\", lgrg_testaccuracy)\n",
        "print(\"Sensitivity (Recall for Solvent):\", sensitivity)\n",
        "print(\"Specificity (Recall for Default):\", specificity)"
      ],
      "metadata": {
        "colab": {
          "base_uri": "https://localhost:8080/"
        },
        "id": "NFMsBw1PfeZB",
        "outputId": "4e6872d5-b715-4c02-a42c-25530ce9517a"
      },
      "execution_count": null,
      "outputs": [
        {
          "output_type": "stream",
          "name": "stdout",
          "text": [
            "Confusion Matrix:\n",
            " [[  186  1202]\n",
            " [    5 16323]]\n",
            "Test Accuracy: 0.9318694965003387\n",
            "Sensitivity (Recall for Solvent): 0.9996937775600196\n",
            "Specificity (Recall for Default): 0.1340057636887608\n"
          ]
        }
      ]
    },
    {
      "cell_type": "code",
      "source": [
        "# Extract TP, FP, TN, FN from the confusion matrix\n",
        "tn, fp, fn, tp = conf_matrix.ravel()\n",
        "print(\"True Negatives (TN):\", tn)\n",
        "print(\"False Positives (FP):\", fp)\n",
        "print(\"False Negatives (FN):\", fn)\n",
        "print(\"True Positives (TP):\", tp)"
      ],
      "metadata": {
        "colab": {
          "base_uri": "https://localhost:8080/"
        },
        "id": "FfxG3DSPfuon",
        "outputId": "b3e81e50-8639-449c-c7e0-a9a6687d9b56"
      },
      "execution_count": null,
      "outputs": [
        {
          "output_type": "stream",
          "name": "stdout",
          "text": [
            "True Negatives (TN): 186\n",
            "False Positives (FP): 1202\n",
            "False Negatives (FN): 5\n",
            "True Positives (TP): 16323\n"
          ]
        }
      ]
    },
    {
      "cell_type": "code",
      "source": [
        "sns.heatmap(conf_matrix)"
      ],
      "metadata": {
        "colab": {
          "base_uri": "https://localhost:8080/",
          "height": 447
        },
        "id": "_qXquTWUfxes",
        "outputId": "30595823-7296-4627-e921-773222a1624a"
      },
      "execution_count": null,
      "outputs": [
        {
          "output_type": "execute_result",
          "data": {
            "text/plain": [
              "<Axes: >"
            ]
          },
          "metadata": {},
          "execution_count": 12
        },
        {
          "output_type": "display_data",
          "data": {
            "text/plain": [
              "<Figure size 640x480 with 2 Axes>"
            ],
            "image/png": "[encoded data removed]"
          },
          "metadata": {}
        }
      ]
    }
  ]
}